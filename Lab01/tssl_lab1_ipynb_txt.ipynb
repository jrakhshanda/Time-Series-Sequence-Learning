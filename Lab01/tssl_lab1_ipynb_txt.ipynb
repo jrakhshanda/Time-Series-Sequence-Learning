{
  "nbformat": 4,
  "nbformat_minor": 0,
  "metadata": {
    "kernelspec": {
      "display_name": "Python 3",
      "language": "python",
      "name": "python3"
    },
    "language_info": {
      "codemirror_mode": {
        "name": "ipython",
        "version": 3
      },
      "file_extension": ".py",
      "mimetype": "text/x-python",
      "name": "python",
      "nbconvert_exporter": "python",
      "pygments_lexer": "ipython3",
      "version": "3.8.5"
    },
    "colab": {
      "name": "tssl_lab1.ipynb.txt",
      "provenance": [],
      "collapsed_sections": [],
      "include_colab_link": true
    }
  },
  "cells": [
    {
      "cell_type": "markdown",
      "metadata": {
        "id": "view-in-github",
        "colab_type": "text"
      },
      "source": [
        "<a href=\"https://colab.research.google.com/github/jrakhshanda/Time-Series-Sequence-Learning/blob/lab1-dev/Lab01/tssl_lab1_ipynb_txt.ipynb\" target=\"_parent\"><img src=\"https://colab.research.google.com/assets/colab-badge.svg\" alt=\"Open In Colab\"/></a>"
      ]
    },
    {
      "cell_type": "markdown",
      "metadata": {
        "id": "DhBQMHixUjsl",
        "colab_type": "text"
      },
      "source": [
        "# TSSL Lab 1 - Autoregressive models"
      ]
    },
    {
      "cell_type": "markdown",
      "metadata": {
        "id": "n3cgXG4aUjsm",
        "colab_type": "text"
      },
      "source": [
        "We load a few packages that are useful for solvign this lab assignment."
      ]
    },
    {
      "cell_type": "code",
      "metadata": {
        "id": "NtMsfShvUjsn",
        "colab_type": "code",
        "colab": {}
      },
      "source": [
        "import pandas as pd # Loading data / handling data frames\n",
        "import numpy as np\n",
        "import matplotlib.pyplot as plt\n",
        "from sklearn import linear_model as lm  # Used for solving linear regression problems\n",
        "import sklearn.metrics as metrics\n",
        "from sklearn.neural_network import MLPRegressor # Used for NAR model\n",
        "from tssltools_lab1 import acf, acfplot # Module available in LISAM - Used for plotting ACF\n",
        "from matplotlib.pyplot import figure\n",
        "import seaborn as sns\n",
        "%matplotlib inline  "
      ],
      "execution_count": null,
      "outputs": []
    },
    {
      "cell_type": "markdown",
      "metadata": {
        "id": "wpUYHP1ZUjsq",
        "colab_type": "text"
      },
      "source": [
        "## 1.1 Loading, plotting and detrending data"
      ]
    },
    {
      "cell_type": "markdown",
      "metadata": {
        "id": "qA0vn_FwUjsr",
        "colab_type": "text"
      },
      "source": [
        "In this lab we will build autoregressive models for a data set corresponding to the Global Mean Sea Level (GMSL) over the past few decades. The data is taken from https://climate.nasa.gov/vital-signs/sea-level/ and is available on LISAM in the file `sealevel.csv`."
      ]
    },
    {
      "cell_type": "markdown",
      "metadata": {
        "id": "CdeP391LUjsr",
        "colab_type": "text"
      },
      "source": [
        "**Q1**: Load the data and plot the GMSL versus time. How many observations are there in total in this data set?\n",
        "\n",
        "_Hint:_ With pandas you can use the function `pandas.read_csv` to read the csv file into a data frame. Plotting the time series can be done using `pyplot`. Note that the sea level data is stored in the 'GMSL' column and the time when each data point was recorded is stored in the column 'Year'."
      ]
    },
    {
      "cell_type": "code",
      "metadata": {
        "id": "BMo0w7wPUjst",
        "colab_type": "code",
        "colab": {
          "base_uri": "https://localhost:8080/",
          "height": 217
        },
        "outputId": "cc48ee55-6f7a-487d-f3f3-23c48d09a306"
      },
      "source": [
        "df = pd.read_csv(\"sealevel.csv\")\n",
        "df.head()"
      ],
      "execution_count": 2,
      "outputs": [
        {
          "output_type": "execute_result",
          "data": {
            "text/html": [
              "<div>\n",
              "<style scoped>\n",
              "    .dataframe tbody tr th:only-of-type {\n",
              "        vertical-align: middle;\n",
              "    }\n",
              "\n",
              "    .dataframe tbody tr th {\n",
              "        vertical-align: top;\n",
              "    }\n",
              "\n",
              "    .dataframe thead th {\n",
              "        text-align: right;\n",
              "    }\n",
              "</style>\n",
              "<table border=\"1\" class=\"dataframe\">\n",
              "  <thead>\n",
              "    <tr style=\"text-align: right;\">\n",
              "      <th></th>\n",
              "      <th>Altimeter type</th>\n",
              "      <th>Merged file cycle nr</th>\n",
              "      <th>Year</th>\n",
              "      <th>Nr observations</th>\n",
              "      <th>Weighted nr observations</th>\n",
              "      <th>GMSL</th>\n",
              "      <th>GMSL std</th>\n",
              "      <th>GMSL smooth</th>\n",
              "      <th>GIA</th>\n",
              "      <th>GIA std</th>\n",
              "      <th>GIA smooth</th>\n",
              "      <th>GIA smooth cycle removed</th>\n",
              "    </tr>\n",
              "  </thead>\n",
              "  <tbody>\n",
              "    <tr>\n",
              "      <th>0</th>\n",
              "      <td>0.0</td>\n",
              "      <td>11.0</td>\n",
              "      <td>1993.011526</td>\n",
              "      <td>466462.0</td>\n",
              "      <td>337277.00</td>\n",
              "      <td>-37.24</td>\n",
              "      <td>92.66</td>\n",
              "      <td>-37.02</td>\n",
              "      <td>-37.24</td>\n",
              "      <td>92.66</td>\n",
              "      <td>-37.02</td>\n",
              "      <td>-37.55</td>\n",
              "    </tr>\n",
              "    <tr>\n",
              "      <th>1</th>\n",
              "      <td>0.0</td>\n",
              "      <td>12.0</td>\n",
              "      <td>1993.038692</td>\n",
              "      <td>460889.0</td>\n",
              "      <td>334037.31</td>\n",
              "      <td>-40.35</td>\n",
              "      <td>95.39</td>\n",
              "      <td>-38.20</td>\n",
              "      <td>-40.34</td>\n",
              "      <td>95.39</td>\n",
              "      <td>-38.19</td>\n",
              "      <td>-38.06</td>\n",
              "    </tr>\n",
              "    <tr>\n",
              "      <th>2</th>\n",
              "      <td>0.0</td>\n",
              "      <td>13.0</td>\n",
              "      <td>1993.065858</td>\n",
              "      <td>472123.0</td>\n",
              "      <td>342416.09</td>\n",
              "      <td>-40.17</td>\n",
              "      <td>92.29</td>\n",
              "      <td>-38.28</td>\n",
              "      <td>-40.16</td>\n",
              "      <td>92.29</td>\n",
              "      <td>-38.27</td>\n",
              "      <td>-37.60</td>\n",
              "    </tr>\n",
              "    <tr>\n",
              "      <th>3</th>\n",
              "      <td>0.0</td>\n",
              "      <td>14.0</td>\n",
              "      <td>1993.093025</td>\n",
              "      <td>421377.0</td>\n",
              "      <td>306050.59</td>\n",
              "      <td>-41.92</td>\n",
              "      <td>96.20</td>\n",
              "      <td>-38.56</td>\n",
              "      <td>-41.89</td>\n",
              "      <td>96.19</td>\n",
              "      <td>-38.54</td>\n",
              "      <td>-37.45</td>\n",
              "    </tr>\n",
              "    <tr>\n",
              "      <th>4</th>\n",
              "      <td>0.0</td>\n",
              "      <td>15.0</td>\n",
              "      <td>1993.120191</td>\n",
              "      <td>459548.0</td>\n",
              "      <td>331094.09</td>\n",
              "      <td>-36.89</td>\n",
              "      <td>94.64</td>\n",
              "      <td>-37.87</td>\n",
              "      <td>-36.85</td>\n",
              "      <td>94.63</td>\n",
              "      <td>-37.83</td>\n",
              "      <td>-36.44</td>\n",
              "    </tr>\n",
              "  </tbody>\n",
              "</table>\n",
              "</div>"
            ],
            "text/plain": [
              "   Altimeter type  Merged file cycle nr  ...  GIA smooth  GIA smooth cycle removed\n",
              "0             0.0                  11.0  ...      -37.02                    -37.55\n",
              "1             0.0                  12.0  ...      -38.19                    -38.06\n",
              "2             0.0                  13.0  ...      -38.27                    -37.60\n",
              "3             0.0                  14.0  ...      -38.54                    -37.45\n",
              "4             0.0                  15.0  ...      -37.83                    -36.44\n",
              "\n",
              "[5 rows x 12 columns]"
            ]
          },
          "metadata": {
            "tags": []
          },
          "execution_count": 2
        }
      ]
    },
    {
      "cell_type": "code",
      "metadata": {
        "id": "ltlmhofRVclH",
        "colab_type": "code",
        "colab": {
          "base_uri": "https://localhost:8080/",
          "height": 35
        },
        "outputId": "7cbf5950-e2aa-41e4-b0bb-56c1a6e43282"
      },
      "source": [
        "df.shape"
      ],
      "execution_count": 3,
      "outputs": [
        {
          "output_type": "execute_result",
          "data": {
            "text/plain": [
              "(997, 12)"
            ]
          },
          "metadata": {
            "tags": []
          },
          "execution_count": 3
        }
      ]
    },
    {
      "cell_type": "markdown",
      "metadata": {
        "id": "MlxG2mkYUjss",
        "colab_type": "text"
      },
      "source": [
        "**A1**:\n",
        "There are 997 observation in the sealevel datset. This datset has 12 features(columns).\n",
        "\n",
        "### Time-Series Plot of GMSL"
      ]
    },
    {
      "cell_type": "code",
      "metadata": {
        "id": "cdivz8INW5wo",
        "colab_type": "code",
        "colab": {
          "base_uri": "https://localhost:8080/",
          "height": 365
        },
        "outputId": "b7e89512-6a56-4a2a-93d0-8becd38152db"
      },
      "source": [
        "plt.figure(figsize=(8,5))\n",
        "plt.rcParams.update({'font.size': 16})\n",
        "plt.plot(df['Year'],df['GMSL'])\n",
        "plt.ylabel(\"GMSL\")\n",
        "plt.xlabel(\"Year\")\n",
        "plt.title(\"Time-Series Plot\")\n",
        "plt.grid(True)\n",
        "plt.show()"
      ],
      "execution_count": 5,
      "outputs": [
        {
          "output_type": "display_data",
          "data": {
            "image/png": "[encoded data removed]",
            "text/plain": [
              "<Figure size 576x360 with 1 Axes>"
            ]
          },
          "metadata": {
            "tags": [],
            "needs_background": "light"
          }
        }
      ]
    },
    {
      "cell_type": "markdown",
      "metadata": {
        "id": "2tk_wVoRUjsv",
        "colab_type": "text"
      },
      "source": [
        "**Q2**: The data has a clear upward trend. Before fitting an AR model to this data need to remove this trend. Explain, using one or two sentences, why this is necessary."
      ]
    },
    {
      "cell_type": "markdown",
      "metadata": {
        "id": "ALuRWYbbUjsw",
        "colab_type": "text"
      },
      "source": [
        "**A2:**"
      ]
    },
    {
      "cell_type": "markdown",
      "metadata": {
        "id": "W5vA9JWHUjsw",
        "colab_type": "text"
      },
      "source": [
        "**Q3** Detrend the data following these steps:\n",
        "1. Fit a straight line, $\\mu_t=\\theta_0 + \\theta_1 u_t $ to the data based on the method of least squares. Here, $u_t$ is the time point when obervation $t$ was recorded.\n",
        "\n",
        "    _Hint:_ You can use `lm.LinearRegression().fit(...)` from scikit-learn. Note that the inputs need to be passed as a 2D array.\n",
        "\n",
        "    Before going on to the next step, plot your fitted line and the data in one figure.\n",
        "\n",
        "\n",
        "2. Subtract the fitted line from $y_t$ for the whole data series and plot the deviations from the straight line.\n",
        "\n",
        "**From now, we will use the detrended data in all parts of the lab.**\n",
        "\n",
        "_Note:_ The GMSL data is recorded at regular time intervals, so that $u_{t+1} - u_t = $ const. Therefore, you can just as well use $t$ directly in the linear regression function if you prefer, $\\mu_t=\\theta_0 + \\theta_1 t $."
      ]
    },
    {
      "cell_type": "markdown",
      "metadata": {
        "id": "niAiL-VpUjsx",
        "colab_type": "text"
      },
      "source": [
        "**A3:**"
      ]
    },
    {
      "cell_type": "code",
      "metadata": {
        "id": "Rp5w5fd_Ujsx",
        "colab_type": "code",
        "colab": {
          "base_uri": "https://localhost:8080/",
          "height": 35
        },
        "outputId": "a771318b-fb53-490d-f46e-d368650f84e4"
      },
      "source": [
        "import itertools\n",
        "model = lm.LinearRegression()\n",
        "X = df['Year'].values.reshape(-1, 1)\n",
        "y = df['GMSL'].values.reshape(-1, 1)\n",
        "model = model.fit( X,y)\n",
        "y_pred = model.predict(X)\n",
        "print(np.sum((y-y_pred)**2)/y.shape[0])\n",
        "dev = list(itertools.chain.from_iterable(y-y_pred))"
      ],
      "execution_count": 6,
      "outputs": [
        {
          "output_type": "stream",
          "text": [
            "32.293014489250034\n"
          ],
          "name": "stdout"
        }
      ]
    },
    {
      "cell_type": "code",
      "metadata": {
        "id": "45PyhxWY2P-r",
        "colab_type": "code",
        "colab": {
          "base_uri": "https://localhost:8080/",
          "height": 419
        },
        "outputId": "cd849217-4868-42ff-9dbe-bfd8cf995700"
      },
      "source": [
        "plt.rcParams.update({'font.size': 16})\n",
        "fig, ax = plt.subplots(figsize=(10,6))\n",
        "plt.scatter(X, y,  color='black', marker=\".\")\n",
        "ax.plot(X, dev, linewidth=2, label = 'Deviation curve')\n",
        "ax.plot(X, y_pred, linewidth=5, label = 'Regression line')\n",
        "plt.ylabel(\"GMSL\")\n",
        "plt.xlabel(\"Year\")\n",
        "plt.title(\"Linear Regression\")\n",
        "ax.legend(loc='upper left', frameon=False)\n",
        "plt.show()"
      ],
      "execution_count": 7,
      "outputs": [
        {
          "output_type": "display_data",
          "data": {
            "image/png": "[encoded data removed]",
            "text/plain": [
              "<Figure size 720x432 with 1 Axes>"
            ]
          },
          "metadata": {
            "tags": [],
            "needs_background": "light"
          }
        }
      ]
    },
    {
      "cell_type": "markdown",
      "metadata": {
        "id": "W-Ksnqu9Ujs0",
        "colab_type": "text"
      },
      "source": [
        "**Q4:** Split the (detrended) time series into training and validation sets. Use the values from the beginning up to the 700th time point (i.e. $y_t$ for $t=1$ to $t=700$) as your training data, and the rest of the values as your validation data. Plot the two data sets.\n",
        "\n",
        "_Note:_ In the above, we have allowed ourselves to use all the available data (train + validation) when detrending. An alternative would be to use only the training data also when detrending the model. The latter approach is more suitable if, either:\n",
        "* we view the linear detrending as part of the model choice. Perhaps we wish to compare different polynomial trend models, and evaluate their performance on the validation data, or\n",
        "* we wish to use the second chunk of observations to estimate the performance of the final model on unseen data (in that case it is often referred to as \"test data\" instead of \"validation data\"), in which case we should not use these observations when fitting the model, including the detrending step.\n",
        "\n",
        "In this laboration we consider the linear detrending as a predetermined preprocessing step and therefore allow ourselves to use the validation data when computing the linear trend."
      ]
    },
    {
      "cell_type": "markdown",
      "metadata": {
        "id": "5YlWS6P2Ujs1",
        "colab_type": "text"
      },
      "source": [
        "**A4:**\n"
      ]
    },
    {
      "cell_type": "code",
      "metadata": {
        "id": "LJnkiwQ6MHeA",
        "colab_type": "code",
        "colab": {}
      },
      "source": [
        "d = {'Year': df['Year'], 'GMSL': dev}\n",
        "data = pd.DataFrame(data=d)"
      ],
      "execution_count": 8,
      "outputs": []
    },
    {
      "cell_type": "code",
      "metadata": {
        "id": "7ATtFb1SUjs1",
        "colab_type": "code",
        "colab": {}
      },
      "source": [
        "train, test = data.iloc[0:700,], data.iloc[700:,]\n",
        "X_train, y_train = train['Year'], train['GMSL']\n",
        "X_test,y_test = test['Year'], test['GMSL']"
      ],
      "execution_count": 9,
      "outputs": []
    },
    {
      "cell_type": "code",
      "metadata": {
        "id": "hEEQ7we3KsNB",
        "colab_type": "code",
        "colab": {
          "base_uri": "https://localhost:8080/",
          "height": 365
        },
        "outputId": "6b33053d-a4a9-4ae2-bc1f-40e0d79ebf9e"
      },
      "source": [
        "plt.rcParams.update({'font.size': 16})\n",
        "plt.figure(figsize=(20,5))\n",
        "plt.subplot(1, 2, 1)\n",
        "plt.scatter(X_train, y_train,  color='black', marker=\".\")\n",
        "plt.ylabel(\"GMSL(Detrend)\")\n",
        "plt.xlabel(\"Year\")\n",
        "plt.title(\"Train Data\")\n",
        "\n",
        "plt.subplot(1, 2, 2)\n",
        "plt.scatter(X_test, y_test,  color='black', marker=\".\")\n",
        "plt.ylabel(\"GMSL(Detrend)\")\n",
        "plt.xlabel(\"Year\")\n",
        "plt.title(\"Test Data\")\n",
        "plt.show()"
      ],
      "execution_count": 10,
      "outputs": [
        {
          "output_type": "display_data",
          "data": {
            "image/png": "[encoded data removed]",
            "text/plain": [
              "<Figure size 1440x360 with 2 Axes>"
            ]
          },
          "metadata": {
            "tags": [],
            "needs_background": "light"
          }
        }
      ]
    },
    {
      "cell_type": "markdown",
      "metadata": {
        "id": "EiYWtJV6Ujs4",
        "colab_type": "text"
      },
      "source": [
        "## 1.2 Fit an autoregressive model\n",
        "We will now fit an AR$(p)$ model to the training data for a given value of the model order $p$."
      ]
    },
    {
      "cell_type": "markdown",
      "metadata": {
        "id": "we75S63YUjs4",
        "colab_type": "text"
      },
      "source": [
        "**Q5**: Create a function that fits an AR$(p)$ model for an arbitrary value of p. Use this function to fit a model of order $p=10$ to the training data and write out (or plot) the coefficients.\n",
        "\n",
        "_Hint:_ Since fitting an AR model is essentially just a standard linear regression we can make use of `lm.LinearRegression().fit(...)` similarly to above. You may use the template below and simply fill in the missing code."
      ]
    },
    {
      "cell_type": "markdown",
      "metadata": {
        "id": "ATuLwlKBUjs5",
        "colab_type": "text"
      },
      "source": [
        "**A5:**"
      ]
    },
    {
      "cell_type": "code",
      "metadata": {
        "id": "ILqEOhW2Ujs6",
        "colab_type": "code",
        "colab": {}
      },
      "source": [
        "def fit_ar(y, p):\n",
        "    \"\"\"Fits an AR(p) model. The loss function is the sum of squared errors from t=p+1 to t=n.\n",
        "\n",
        "    :param y: array (n,), training data points\n",
        "    :param p: int, AR model order\n",
        "    :return theta: array (p,), learnt AR coefficients\n",
        "    \"\"\"\n",
        "\n",
        "    # Number of training data points\n",
        "    n = train.shape[0]       # <COMPLETE THIS LINE>\n",
        "    \n",
        "    # Construct the regression matrix\n",
        "    Phi = np.zeros((n-p,p)) # <COMPLETE THIS LINE>\n",
        "    for i in range(p):\n",
        "        Phi[:,i] = y.loc[i:n+i-p-1] # <COMPLETE THIS LINE>\n",
        "    #Phi = Phi[::-1]\n",
        "    # Drop the first p values from the target vector y\n",
        "    yy = y[p:]  # yy = (y_{t+p+1}, ..., y_n)\n",
        "\n",
        "    # Here we use fit_intercept=False since we do not want to include an intercept term in the AR model\n",
        "    regr = lm.LinearRegression(fit_intercept=False)\n",
        "    regr.fit(Phi,yy)    \n",
        "\n",
        "    return regr.coef_,Phi"
      ],
      "execution_count": 11,
      "outputs": []
    },
    {
      "cell_type": "code",
      "metadata": {
        "id": "p7odbXlrUjs9",
        "colab_type": "code",
        "colab": {
          "base_uri": "https://localhost:8080/",
          "height": 52
        },
        "outputId": "5e1a5695-4a78-4a19-cf24-76cfbd8a5587"
      },
      "source": [
        "theta,Phi = fit_ar(y_train,10)\n",
        "theta"
      ],
      "execution_count": 12,
      "outputs": [
        {
          "output_type": "execute_result",
          "data": {
            "text/plain": [
              "array([ 0.02305208, -0.11175939,  0.07585221, -0.09578106, -0.05955406,\n",
              "       -0.02184709,  0.1745703 ,  0.15104657,  0.10763277,  0.62156052])"
            ]
          },
          "metadata": {
            "tags": []
          },
          "execution_count": 12
        }
      ]
    },
    {
      "cell_type": "markdown",
      "metadata": {
        "id": "2jrgekvEUjtA",
        "colab_type": "text"
      },
      "source": [
        "**Q6:** Next, write a function that computes the one-step-ahead prediction of your fitted model. 'One-step-ahead' here means that in order to predict $y_t$ at $t=t_0$, we use the actual values of $y_t$ for $t<t_0$ from the data. Use your function to compute the predictions for both *training data* and *validation data*. Plot the predictions together with the data (you can plot both training and validation data in the same figure). Also plot the *residuals*.\n",
        "\n",
        "_Hint:_ It is enought to call the predict function once, for both training and validation data at the same time."
      ]
    },
    {
      "cell_type": "markdown",
      "metadata": {
        "id": "JmOlqK-vUjtA",
        "colab_type": "text"
      },
      "source": [
        "**A6:**"
      ]
    },
    {
      "cell_type": "code",
      "metadata": {
        "id": "rFqbTyitUjtB",
        "colab_type": "code",
        "colab": {}
      },
      "source": [
        "def predict_ar_1step(theta, y_target):\n",
        "    \"\"\"Predicts the value y_t for t = p+1, ..., n, for an AR(p) model, based on the data in y_target using\n",
        "    one-step-ahead prediction.\n",
        "\n",
        "    :param theta: array (p,), AR coefficients, theta=(a1,a2,...,ap).\n",
        "    :param y_target: array (n,), the data points used to compute the predictions.\n",
        "    :return y_pred: array (n-p,), the one-step predictions (\\hat y_{p+1}, ...., \\hat y_n) \n",
        "    \"\"\"\n",
        "\n",
        "    n = len(y_target)\n",
        "    p = len(theta)\n",
        "    \n",
        "    # Number of steps in prediction\n",
        "    m = n-p\n",
        "    y_pred = np.zeros(n)\n",
        "    \n",
        "    for i in range(n):\n",
        "        # <COMPLETE THIS CODE BLOCK>\n",
        "        if i < p:\n",
        "          y_pred[i] = y_target[i]\n",
        "        else:\n",
        "          y_pred[i] = np.dot(np.transpose(theta),(y_target[i-p:i]))  # <COMPLETE THIS LINE>\n",
        "  \n",
        "    mse = np.sum((y_target - y_pred)**2)/m\n",
        "    return y_pred,mse"
      ],
      "execution_count": 14,
      "outputs": []
    },
    {
      "cell_type": "code",
      "metadata": {
        "id": "M-Kc0nsqUjtE",
        "colab_type": "code",
        "colab": {
          "base_uri": "https://localhost:8080/",
          "height": 35
        },
        "outputId": "e4aa96ca-c429-4c02-ce47-4140008c8b6f"
      },
      "source": [
        "pred,mse = predict_ar_1step(theta,np.array(y_test, np.float64))\n",
        "mse"
      ],
      "execution_count": 15,
      "outputs": [
        {
          "output_type": "execute_result",
          "data": {
            "text/plain": [
              "4.794641981893875"
            ]
          },
          "metadata": {
            "tags": []
          },
          "execution_count": 15
        }
      ]
    },
    {
      "cell_type": "markdown",
      "metadata": {
        "id": "I66b5n5cUjtH",
        "colab_type": "text"
      },
      "source": [
        "**Q7:** Compute and plot the autocorrelation function (ACF) of the *residuals* only for the *validation data*. What conclusions can you draw from the ACF plot?\n",
        "\n",
        "_Hint:_ You can use the function `acfplot` from the `tssltools` module, available on the course web page."
      ]
    },
    {
      "cell_type": "markdown",
      "metadata": {
        "id": "pTwr9lZ7UjtI",
        "colab_type": "text"
      },
      "source": [
        "**A7:**"
      ]
    },
    {
      "cell_type": "code",
      "metadata": {
        "id": "0muJX3_NUjtI",
        "colab_type": "code",
        "colab": {
          "base_uri": "https://localhost:8080/",
          "height": 346
        },
        "outputId": "cb9e0cfe-54ab-42a9-d18d-756468ca4003"
      },
      "source": [
        "residual = list((y_test - pred))\n",
        "plt.figure(figsize=(20,5))\n",
        "acfplot(residual)"
      ],
      "execution_count": 17,
      "outputs": [
        {
          "output_type": "display_data",
          "data": {
            "image/png": "[encoded data removed]",
            "text/plain": [
              "<Figure size 1440x360 with 1 Axes>"
            ]
          },
          "metadata": {
            "tags": [],
            "needs_background": "light"
          }
        }
      ]
    },
    {
      "cell_type": "markdown",
      "metadata": {
        "id": "VuogJX4YUjtN",
        "colab_type": "text"
      },
      "source": [
        ""
      ]
    },
    {
      "cell_type": "markdown",
      "metadata": {
        "id": "295cHWJJUjtN",
        "colab_type": "text"
      },
      "source": [
        "## 1.3 Model validation and order selection\n",
        "Above we set the model order $p=10$ quite arbitrarily. In this section we will try to find an appropriate order by validation."
      ]
    },
    {
      "cell_type": "markdown",
      "metadata": {
        "id": "A9JKdHHPUjtO",
        "colab_type": "text"
      },
      "source": [
        "**Q8**: Write a loop in which AR-models of orders from $p=2$ to $p=150$ are fitted to the data above. Plot the training and validation mean-squared errors for the one-step-ahead predictions versus the model order.\n",
        "\n",
        "Based on your results:\n",
        "- What is the main difference between the changes in training error and validation error as the order increases? \n",
        "- Based on these results, which model order would you suggest to use and why?\n",
        "\n",
        "_Note:_ There is no obvious \"correct answer\" to the second question, but you still need to pick an order an motivate your choice!\n"
      ]
    },
    {
      "cell_type": "markdown",
      "metadata": {
        "id": "7NOJjU4_UjtP",
        "colab_type": "text"
      },
      "source": [
        "**A8:**"
      ]
    },
    {
      "cell_type": "code",
      "metadata": {
        "id": "F9RRgFcAUjtP",
        "colab_type": "code",
        "colab": {
          "base_uri": "https://localhost:8080/",
          "height": 72
        },
        "outputId": "ef7addab-95f3-439d-f6fb-e7504b0bb663"
      },
      "source": [
        "p_range = list(range(2,151))\n",
        "\n",
        "mseTrain = list()\n",
        "mseTest = list()\n",
        "for p in range(2,151):\n",
        "  theta,Phi = fit_ar(y_train,p)\n",
        "  pred_train,mse_train = predict_ar_1step(theta,np.array(y_train, np.float64))\n",
        "  mseTrain.append(mse_train)\n",
        "  pred_test,mse_test = predict_ar_1step(theta,np.array(y_test, np.float64))\n",
        "  mseTest.append(mse_test)\n",
        "\n",
        "print(mseTrain)\n",
        "print(mse_test)"
      ],
      "execution_count": 18,
      "outputs": [
        {
          "output_type": "stream",
          "text": [
            "[8.140376424518312, 7.948207519178895, 7.9089078571078835, 7.769009054905159, 7.652367949700438, 7.596782718206457, 7.598486742816521, 7.53311236553953, 7.520580147912452, 7.5269866300339014, 7.518762395386193, 7.5230559360266085, 7.527701636933813, 7.434766465868333, 7.4410845304379905, 7.429246635640601, 7.411308186044057, 7.413837434096411, 7.420793120911644, 7.36025993314056, 7.340793308907178, 7.339927921619791, 7.2307918486172245, 7.2057388229662855, 7.168534891959165, 7.062474021253057, 6.91793096343769, 6.811024994151592, 6.783545365993897, 6.667896071335217, 6.561784922688993, 6.556671938854756, 6.555233976416623, 6.553277827956719, 6.490728425900388, 6.489982674987042, 6.474602883396145, 6.347307937356937, 6.335340416249315, 6.2827814467325735, 6.218568515244229, 6.2037088053083185, 6.210378280384758, 6.188230386115352, 6.126463235199631, 6.123873342425081, 6.110197024754238, 6.116156266247784, 6.112713081967788, 6.09669317760578, 6.0786992494476655, 6.075631875804337, 6.041521354736053, 6.008952032134717, 5.97590513864344, 5.980352495727665, 5.95881180595716, 5.963769677549978, 5.96502647998889, 5.954005036093485, 5.956869256298448, 5.922615828370764, 5.928556124974551, 5.90499552118262, 5.908004853114776, 5.898646110137226, 5.906299600103022, 5.777743514939869, 5.708610558869356, 5.69383044473898, 5.666985946097061, 5.649643208903764, 5.638776937708222, 5.628527287717075, 5.637121520485724, 5.61706450545635, 5.531299583600685, 5.492787914852652, 5.491471262315816, 5.492548027417916, 5.490402272421526, 5.487059215124927, 5.482144314677565, 5.476277398665889, 5.476601083263327, 5.411451612897882, 5.4113243878356085, 5.408343466350429, 5.410881709612119, 5.40271670877632, 5.368056694706428, 5.350345241462901, 5.304123314088523, 5.290772781394737, 5.294104413765878, 5.288900864028936, 5.296640691068815, 5.298244721091469, 5.294690416049644, 5.24379624564785, 5.215941142192144, 5.221615145658963, 5.1822552288248875, 5.171794976849099, 5.151279992788357, 5.129209260497636, 4.430921534405098, 4.2627220358647095, 4.201402376215081, 4.20687249243814, 4.209803349603596, 4.183335339359852, 4.183845102530078, 4.158436079461171, 4.151077935294296, 4.129858481902976, 4.110379159963346, 4.112776159397376, 4.1120122823618575, 4.112380708300209, 4.072761968998832, 4.052532013234015, 4.031242670362764, 4.028684702863141, 4.023062996855173, 4.017685243314231, 4.004565710134301, 3.992029053244388, 3.9879414373985895, 3.984050481705423, 3.94225652488738, 3.939583140151926, 3.924930125407293, 3.927608837394565, 3.91277797836788, 3.9072878195271197, 3.867565381574388, 3.8737142446148596, 3.8421285883827165, 3.7545087494338243, 3.703214903582634, 3.7033443487105786, 3.691174684863918, 3.693382461735388, 3.6921929321661526, 3.6115552364800076, 3.5808327630653167, 3.585714974204847, 3.5747728156957668]\n",
            "4.748947433483974\n"
          ],
          "name": "stdout"
        }
      ]
    },
    {
      "cell_type": "markdown",
      "metadata": {
        "id": "BbWmuKBsUjtU",
        "colab_type": "text"
      },
      "source": [
        ""
      ]
    },
    {
      "cell_type": "markdown",
      "metadata": {
        "id": "KObzdyziUjtU",
        "colab_type": "text"
      },
      "source": [
        "**Q9:** Based on the chosen model order, compute the residuals of the one-step-ahead predictions on the *validation data*. Plot the autocorrelation function of the residuals. What conclusions can you draw? Compare to the ACF plot generated above for p=10."
      ]
    },
    {
      "cell_type": "code",
      "metadata": {
        "id": "f0cV8R1jUjtV",
        "colab_type": "code",
        "colab": {}
      },
      "source": [
        ""
      ],
      "execution_count": 18,
      "outputs": []
    },
    {
      "cell_type": "markdown",
      "metadata": {
        "id": "rhRTt6IZUjtY",
        "colab_type": "text"
      },
      "source": [
        ""
      ]
    },
    {
      "cell_type": "markdown",
      "metadata": {
        "id": "XyZvGUYaUjtY",
        "colab_type": "text"
      },
      "source": [
        "## 1.4 Long-range predictions\n",
        "So far we have only considered one-step-ahead predictions. However, in many practical applications it is of interest to use the model to predict further into the future. For intance, for the sea level data studied in this laboration, it is more interesting to predict the level one year from now, and not just 10 days ahead (10 days = 1 time step in this data)."
      ]
    },
    {
      "cell_type": "markdown",
      "metadata": {
        "id": "v0yfa27QUjtZ",
        "colab_type": "text"
      },
      "source": [
        "**Q10**: \n",
        "Write a function that simulates the value of an AR($p$) model $m$ steps into the future, conditionally on an initial sequence of data points. Specifically, given $y_{1:n}$ with $n\\geq p$ the function/code should predict the values\n",
        "\n",
        "\\begin{align}\n",
        "    \\hat y_{t|n} &= \\mathbb{E}[y_{t} | y_{1:n}], & t&=n+1,\\dots,n+m.\n",
        "\\end{align}\n",
        "\n",
        "Use this to predict the values for the validation data ($y_{701:997}$) conditionally on the training data ($y_{1:700}$) and plot the result.\n",
        "\n",
        "_Hint:_ Use the pseudo-code derived at the first pen-and-paper session."
      ]
    },
    {
      "cell_type": "markdown",
      "metadata": {
        "id": "rUsSlzoTUjta",
        "colab_type": "text"
      },
      "source": [
        "**A10:**"
      ]
    },
    {
      "cell_type": "code",
      "metadata": {
        "id": "W8GNGRO7Ujta",
        "colab_type": "code",
        "colab": {}
      },
      "source": [
        "def simulate_ar(y, theta, m):\n",
        "    \"\"\"Simulates an AR(p) model for m steps, with initial condition given by the last p values of y\n",
        "    \n",
        "    :param y: array (n,) with n>=p. The last p values are used to initialize the simulation.\n",
        "    :param theta: array (p,). AR model parameters,\n",
        "    :param m: int, number of time steps to simulate the model for.\n",
        "    \"\"\"\n",
        "\n",
        "    p = len(theta)    \n",
        "    y_sim = np.zeros(m)\n",
        "    phi = np.flip(y[-p:].copy()) # (y_{n-1}, ..., y_{n-p})^T - note that y[ntrain-1] is the last training data point\n",
        "\n",
        "    for i in range(m):\n",
        "        y_sim[i] = ... # <COMPLETE THIS LINE>\n",
        "        # <COMPLETE THIS CODE BLOCK>\n",
        "    \n",
        "    return y_sim\n",
        "    "
      ],
      "execution_count": null,
      "outputs": []
    },
    {
      "cell_type": "code",
      "metadata": {
        "id": "BQuxh8wCUjth",
        "colab_type": "code",
        "colab": {}
      },
      "source": [
        ""
      ],
      "execution_count": null,
      "outputs": []
    },
    {
      "cell_type": "markdown",
      "metadata": {
        "id": "p_E6z0_GUjtj",
        "colab_type": "text"
      },
      "source": [
        "**Q11:** Using the same function as above, try to simulate the process for a large number of time steps (say, $m=2000$). You should see that the predicted values eventually converge to a constant prediction of zero. Is this something that you would expect to see in general? Explain the result."
      ]
    },
    {
      "cell_type": "markdown",
      "metadata": {
        "id": "GU4awQ4NUjtk",
        "colab_type": "text"
      },
      "source": [
        "**A11:**"
      ]
    },
    {
      "cell_type": "code",
      "metadata": {
        "id": "dszw8iKEUjtk",
        "colab_type": "code",
        "colab": {}
      },
      "source": [
        ""
      ],
      "execution_count": null,
      "outputs": []
    },
    {
      "cell_type": "markdown",
      "metadata": {
        "id": "iX9xe3_VUjtm",
        "colab_type": "text"
      },
      "source": [
        "## 1.5 Nonlinear AR model\n",
        " In this part, we switch to a nonlinear autoregressive (NAR) model, which is based on a feedforward neural network. This means that in this model the recursive equation for making predictions is still in the form $\\hat y_t=f_\\theta(y_{t-1},...,y_{t-p})$, but this time $f$ is a nonlinear function learned by the neural network. Fortunately almost all of the work for implementing the neural network and training it is handled by the `scikit-learn` package with a few lines of code, and we just need to choose the right structure, and prepare the input-output data.   "
      ]
    },
    {
      "cell_type": "markdown",
      "metadata": {
        "id": "ZSxOJFnbUjtn",
        "colab_type": "text"
      },
      "source": [
        "**Q12**: Construct a NAR($p$) model with a feedforward (MLP) network, by using the `MLPRegressor` class from `scikit-learn`. Set $p$ to the same value as you chose for the linear AR model above. Initially, you can use an MLP with a single hidden layer consisting of 10 hidden neurons. \n",
        "Train it using the same training data as above and plot the one-step-ahead predictions as well as the residuals, on both the training and validation data. \n",
        "\n",
        "_Hint:_ You will need the methods `fit` and `predict` of `MLPRegressor`. Read the user guide of `scikit-learn` for more details. Recall that a NAR model is conceptuall very similar to an AR model, so you can reuse part of the code from above."
      ]
    },
    {
      "cell_type": "markdown",
      "metadata": {
        "id": "V3SmdKeBUjtn",
        "colab_type": "text"
      },
      "source": [
        "**A12:**"
      ]
    },
    {
      "cell_type": "code",
      "metadata": {
        "id": "XXvMajPzUjto",
        "colab_type": "code",
        "colab": {}
      },
      "source": [
        ""
      ],
      "execution_count": null,
      "outputs": []
    },
    {
      "cell_type": "code",
      "metadata": {
        "id": "MmoeIE00Ujtq",
        "colab_type": "code",
        "colab": {}
      },
      "source": [
        ""
      ],
      "execution_count": null,
      "outputs": []
    },
    {
      "cell_type": "markdown",
      "metadata": {
        "id": "i1DYZy6uUjtt",
        "colab_type": "text"
      },
      "source": [
        "**Q13:** Try to expirement with different choices for the hyperparameters of the network (e.g. number of hidden layers and units per layer, activation function, etc.) and the optimizer (e.g. `solver` and `max_iter`).\n",
        "\n",
        "Are you satisfied with the results? Why/why not? Discuss what the limitations of this approach might be."
      ]
    },
    {
      "cell_type": "markdown",
      "metadata": {
        "id": "oQbUx19yUjtt",
        "colab_type": "text"
      },
      "source": [
        "**A13:**"
      ]
    },
    {
      "cell_type": "code",
      "metadata": {
        "id": "2jAvlnLpUjtu",
        "colab_type": "code",
        "colab": {}
      },
      "source": [
        ""
      ],
      "execution_count": null,
      "outputs": []
    },
    {
      "cell_type": "code",
      "metadata": {
        "id": "DGDLShJeUjtw",
        "colab_type": "code",
        "colab": {}
      },
      "source": [
        ""
      ],
      "execution_count": null,
      "outputs": []
    }
  ]
}