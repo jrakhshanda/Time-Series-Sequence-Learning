{
  "nbformat": 4,
  "nbformat_minor": 0,
  "metadata": {
    "kernelspec": {
      "display_name": "Python 3",
      "language": "python",
      "name": "python3"
    },
    "language_info": {
      "codemirror_mode": {
        "name": "ipython",
        "version": 3
      },
      "file_extension": ".py",
      "mimetype": "text/x-python",
      "name": "python",
      "nbconvert_exporter": "python",
      "pygments_lexer": "ipython3",
      "version": "3.8.5"
    },
    "colab": {
      "name": "tssl_lab1.ipynb.txt",
      "provenance": [],
      "collapsed_sections": [],
      "include_colab_link": true
    }
  },
  "cells": [
    {
      "cell_type": "markdown",
      "metadata": {
        "id": "view-in-github",
        "colab_type": "text"
      },
      "source": [
        "<a href=\"https://colab.research.google.com/github/jrakhshanda/Time-Series-Sequence-Learning/blob/master/tssl_lab1_ipynb_txt.ipynb\" target=\"_parent\"><img src=\"https://colab.research.google.com/assets/colab-badge.svg\" alt=\"Open In Colab\"/></a>"
      ]
    },
    {
      "cell_type": "markdown",
      "metadata": {
        "id": "DhBQMHixUjsl",
        "colab_type": "text"
      },
      "source": [
        "# TSSL Lab 1 - Autoregressive models"
      ]
    },
    {
      "cell_type": "markdown",
      "metadata": {
        "id": "n3cgXG4aUjsm",
        "colab_type": "text"
      },
      "source": [
        "We load a few packages that are useful for solvign this lab assignment."
      ]
    },
    {
      "cell_type": "code",
      "metadata": {
        "id": "NtMsfShvUjsn",
        "colab_type": "code",
        "colab": {}
      },
      "source": [
        "import pandas as pd # Loading data / handling data frames\n",
        "import numpy as np\n",
        "import matplotlib.pyplot as plt\n",
        "from sklearn import linear_model as lm  # Used for solving linear regression problems\n",
        "from sklearn.neural_network import MLPRegressor # Used for NAR model\n",
        "from tssltools_lab1 import acf, acfplot # Module available in LISAM - Used for plotting ACF\n",
        "from matplotlib.pyplot import figure\n",
        "%matplotlib inline  "
      ],
      "execution_count": 85,
      "outputs": []
    },
    {
      "cell_type": "markdown",
      "metadata": {
        "id": "wpUYHP1ZUjsq",
        "colab_type": "text"
      },
      "source": [
        "## 1.1 Loading, plotting and detrending data"
      ]
    },
    {
      "cell_type": "markdown",
      "metadata": {
        "id": "qA0vn_FwUjsr",
        "colab_type": "text"
      },
      "source": [
        "In this lab we will build autoregressive models for a data set corresponding to the Global Mean Sea Level (GMSL) over the past few decades. The data is taken from https://climate.nasa.gov/vital-signs/sea-level/ and is available on LISAM in the file `sealevel.csv`."
      ]
    },
    {
      "cell_type": "markdown",
      "metadata": {
        "id": "CdeP391LUjsr",
        "colab_type": "text"
      },
      "source": [
        "**Q1**: Load the data and plot the GMSL versus time. How many observations are there in total in this data set?\n",
        "\n",
        "_Hint:_ With pandas you can use the function `pandas.read_csv` to read the csv file into a data frame. Plotting the time series can be done using `pyplot`. Note that the sea level data is stored in the 'GMSL' column and the time when each data point was recorded is stored in the column 'Year'."
      ]
    },
    {
      "cell_type": "code",
      "metadata": {
        "id": "BMo0w7wPUjst",
        "colab_type": "code",
        "colab": {
          "base_uri": "https://localhost:8080/",
          "height": 214
        },
        "outputId": "d3655c8e-a679-4b9d-f802-f4f410db4149"
      },
      "source": [
        "df = pd.read_csv(\"sealevel.csv\")\n",
        "df.head()"
      ],
      "execution_count": 69,
      "outputs": [
        {
          "output_type": "execute_result",
          "data": {
            "text/html": [
              "<div>\n",
              "<style scoped>\n",
              "    .dataframe tbody tr th:only-of-type {\n",
              "        vertical-align: middle;\n",
              "    }\n",
              "\n",
              "    .dataframe tbody tr th {\n",
              "        vertical-align: top;\n",
              "    }\n",
              "\n",
              "    .dataframe thead th {\n",
              "        text-align: right;\n",
              "    }\n",
              "</style>\n",
              "<table border=\"1\" class=\"dataframe\">\n",
              "  <thead>\n",
              "    <tr style=\"text-align: right;\">\n",
              "      <th></th>\n",
              "      <th>Altimeter type</th>\n",
              "      <th>Merged file cycle nr</th>\n",
              "      <th>Year</th>\n",
              "      <th>Nr observations</th>\n",
              "      <th>Weighted nr observations</th>\n",
              "      <th>GMSL</th>\n",
              "      <th>GMSL std</th>\n",
              "      <th>GMSL smooth</th>\n",
              "      <th>GIA</th>\n",
              "      <th>GIA std</th>\n",
              "      <th>GIA smooth</th>\n",
              "      <th>GIA smooth cycle removed</th>\n",
              "    </tr>\n",
              "  </thead>\n",
              "  <tbody>\n",
              "    <tr>\n",
              "      <th>0</th>\n",
              "      <td>0.0</td>\n",
              "      <td>11.0</td>\n",
              "      <td>1993.011526</td>\n",
              "      <td>466462.0</td>\n",
              "      <td>337277.00</td>\n",
              "      <td>-37.24</td>\n",
              "      <td>92.66</td>\n",
              "      <td>-37.02</td>\n",
              "      <td>-37.24</td>\n",
              "      <td>92.66</td>\n",
              "      <td>-37.02</td>\n",
              "      <td>-37.55</td>\n",
              "    </tr>\n",
              "    <tr>\n",
              "      <th>1</th>\n",
              "      <td>0.0</td>\n",
              "      <td>12.0</td>\n",
              "      <td>1993.038692</td>\n",
              "      <td>460889.0</td>\n",
              "      <td>334037.31</td>\n",
              "      <td>-40.35</td>\n",
              "      <td>95.39</td>\n",
              "      <td>-38.20</td>\n",
              "      <td>-40.34</td>\n",
              "      <td>95.39</td>\n",
              "      <td>-38.19</td>\n",
              "      <td>-38.06</td>\n",
              "    </tr>\n",
              "    <tr>\n",
              "      <th>2</th>\n",
              "      <td>0.0</td>\n",
              "      <td>13.0</td>\n",
              "      <td>1993.065858</td>\n",
              "      <td>472123.0</td>\n",
              "      <td>342416.09</td>\n",
              "      <td>-40.17</td>\n",
              "      <td>92.29</td>\n",
              "      <td>-38.28</td>\n",
              "      <td>-40.16</td>\n",
              "      <td>92.29</td>\n",
              "      <td>-38.27</td>\n",
              "      <td>-37.60</td>\n",
              "    </tr>\n",
              "    <tr>\n",
              "      <th>3</th>\n",
              "      <td>0.0</td>\n",
              "      <td>14.0</td>\n",
              "      <td>1993.093025</td>\n",
              "      <td>421377.0</td>\n",
              "      <td>306050.59</td>\n",
              "      <td>-41.92</td>\n",
              "      <td>96.20</td>\n",
              "      <td>-38.56</td>\n",
              "      <td>-41.89</td>\n",
              "      <td>96.19</td>\n",
              "      <td>-38.54</td>\n",
              "      <td>-37.45</td>\n",
              "    </tr>\n",
              "    <tr>\n",
              "      <th>4</th>\n",
              "      <td>0.0</td>\n",
              "      <td>15.0</td>\n",
              "      <td>1993.120191</td>\n",
              "      <td>459548.0</td>\n",
              "      <td>331094.09</td>\n",
              "      <td>-36.89</td>\n",
              "      <td>94.64</td>\n",
              "      <td>-37.87</td>\n",
              "      <td>-36.85</td>\n",
              "      <td>94.63</td>\n",
              "      <td>-37.83</td>\n",
              "      <td>-36.44</td>\n",
              "    </tr>\n",
              "  </tbody>\n",
              "</table>\n",
              "</div>"
            ],
            "text/plain": [
              "   Altimeter type  Merged file cycle nr  ...  GIA smooth  GIA smooth cycle removed\n",
              "0             0.0                  11.0  ...      -37.02                    -37.55\n",
              "1             0.0                  12.0  ...      -38.19                    -38.06\n",
              "2             0.0                  13.0  ...      -38.27                    -37.60\n",
              "3             0.0                  14.0  ...      -38.54                    -37.45\n",
              "4             0.0                  15.0  ...      -37.83                    -36.44\n",
              "\n",
              "[5 rows x 12 columns]"
            ]
          },
          "metadata": {
            "tags": []
          },
          "execution_count": 69
        }
      ]
    },
    {
      "cell_type": "code",
      "metadata": {
        "id": "ltlmhofRVclH",
        "colab_type": "code",
        "colab": {
          "base_uri": "https://localhost:8080/",
          "height": 34
        },
        "outputId": "110fcf03-c39d-4def-ee90-c83b85b50e2b"
      },
      "source": [
        "data.shape"
      ],
      "execution_count": 7,
      "outputs": [
        {
          "output_type": "execute_result",
          "data": {
            "text/plain": [
              "(997, 12)"
            ]
          },
          "metadata": {
            "tags": []
          },
          "execution_count": 7
        }
      ]
    },
    {
      "cell_type": "markdown",
      "metadata": {
        "id": "MlxG2mkYUjss",
        "colab_type": "text"
      },
      "source": [
        "**A1**:\n",
        "There are 997 observation in the sealevel datset. This datset has 12 features(colmns).\n",
        "\n",
        "### Time-Series Plot of GMSL"
      ]
    },
    {
      "cell_type": "code",
      "metadata": {
        "id": "cdivz8INW5wo",
        "colab_type": "code",
        "colab": {
          "base_uri": "https://localhost:8080/",
          "height": 535
        },
        "outputId": "79651661-6af9-407b-f6b9-a183ee665f8f"
      },
      "source": [
        "plt.figure(figsize=(8,8))\n",
        "plt.rcParams.update({'font.size': 18})\n",
        "plt.plot(df['Year'],df['GMSL'])\n",
        "plt.ylabel(\"GMSL\")\n",
        "plt.xlabel(\"Year\")\n",
        "plt.title(\"Time-Series Plot\")\n",
        "plt.grid(True)\n",
        "plt.show()"
      ],
      "execution_count": 91,
      "outputs": [
        {
          "output_type": "display_data",
          "data": {
            "image/png": "[encoded data removed]",
            "text/plain": [
              "<Figure size 576x576 with 1 Axes>"
            ]
          },
          "metadata": {
            "tags": [],
            "needs_background": "light"
          }
        }
      ]
    },
    {
      "cell_type": "markdown",
      "metadata": {
        "id": "2tk_wVoRUjsv",
        "colab_type": "text"
      },
      "source": [
        "**Q2**: The data has a clear upward trend. Before fitting an AR model to this data need to remove this trend. Explain, using one or two sentences, why this is necessary."
      ]
    },
    {
      "cell_type": "markdown",
      "metadata": {
        "id": "ALuRWYbbUjsw",
        "colab_type": "text"
      },
      "source": [
        "**A2:**"
      ]
    },
    {
      "cell_type": "markdown",
      "metadata": {
        "id": "W5vA9JWHUjsw",
        "colab_type": "text"
      },
      "source": [
        "**Q3** Detrend the data following these steps:\n",
        "1. Fit a straight line, $\\mu_t=\\theta_0 + \\theta_1 u_t $ to the data based on the method of least squares. Here, $u_t$ is the time point when obervation $t$ was recorded.\n",
        "\n",
        "    _Hint:_ You can use `lm.LinearRegression().fit(...)` from scikit-learn. Note that the inputs need to be passed as a 2D array.\n",
        "\n",
        "    Before going on to the next step, plot your fitted line and the data in one figure.\n",
        "\n",
        "\n",
        "2. Subtract the fitted line from $y_t$ for the whole data series and plot the deviations from the straight line.\n",
        "\n",
        "**From now, we will use the detrended data in all parts of the lab.**\n",
        "\n",
        "_Note:_ The GMSL data is recorded at regular time intervals, so that $u_{t+1} - u_t = $ const. Therefore, you can just as well use $t$ directly in the linear regression function if you prefer, $\\mu_t=\\theta_0 + \\theta_1 t $."
      ]
    },
    {
      "cell_type": "markdown",
      "metadata": {
        "id": "niAiL-VpUjsx",
        "colab_type": "text"
      },
      "source": [
        "**A3:**"
      ]
    },
    {
      "cell_type": "code",
      "metadata": {
        "id": "Rp5w5fd_Ujsx",
        "colab_type": "code",
        "colab": {
          "base_uri": "https://localhost:8080/",
          "height": 1000
        },
        "outputId": "f49f3831-4b6a-44d2-d05c-1eacac9845c1"
      },
      "source": [
        "model = lm.LinearRegression()\n",
        "X = data['Year'].values.reshape(-1, 1)\n",
        "y = data['GMSL'].values.reshape(-1, 1)\n",
        "model = model.fit( X,y)\n",
        "y_pred = model.predict(X)\n",
        "print(y_pred)"
      ],
      "execution_count": 111,
      "outputs": [
        {
          "output_type": "stream",
          "text": [
            "[[-3.84567162e+01]\n",
            " [-3.83734857e+01]\n",
            " [-3.82902552e+01]\n",
            " [-3.82070216e+01]\n",
            " [-3.81237912e+01]\n",
            " [-3.80405607e+01]\n",
            " [-3.79573302e+01]\n",
            " [-3.78740997e+01]\n",
            " [-3.77908692e+01]\n",
            " [-3.77076387e+01]\n",
            " [-3.76244052e+01]\n",
            " [-3.75411747e+01]\n",
            " [-3.74579442e+01]\n",
            " [-3.73747137e+01]\n",
            " [-3.72914832e+01]\n",
            " [-3.72082528e+01]\n",
            " [-3.71250192e+01]\n",
            " [-3.70417887e+01]\n",
            " [-3.69585582e+01]\n",
            " [-3.68753278e+01]\n",
            " [-3.67920973e+01]\n",
            " [-3.67088668e+01]\n",
            " [-3.66256363e+01]\n",
            " [-3.65424027e+01]\n",
            " [-3.64591723e+01]\n",
            " [-3.63759418e+01]\n",
            " [-3.62927113e+01]\n",
            " [-3.62094808e+01]\n",
            " [-3.61262503e+01]\n",
            " [-3.60430168e+01]\n",
            " [-3.59597863e+01]\n",
            " [-3.58765558e+01]\n",
            " [-3.57933253e+01]\n",
            " [-3.57100948e+01]\n",
            " [-3.56268643e+01]\n",
            " [-3.55436339e+01]\n",
            " [-3.54604003e+01]\n",
            " [-3.53771698e+01]\n",
            " [-3.52939393e+01]\n",
            " [-3.52107089e+01]\n",
            " [-3.51274784e+01]\n",
            " [-3.50442479e+01]\n",
            " [-3.49610143e+01]\n",
            " [-3.48777839e+01]\n",
            " [-3.47945534e+01]\n",
            " [-3.47113229e+01]\n",
            " [-3.46280924e+01]\n",
            " [-3.45448619e+01]\n",
            " [-3.44616314e+01]\n",
            " [-3.43783979e+01]\n",
            " [-3.42951674e+01]\n",
            " [-3.42119369e+01]\n",
            " [-3.41287064e+01]\n",
            " [-3.40454759e+01]\n",
            " [-3.39622455e+01]\n",
            " [-3.38790150e+01]\n",
            " [-3.37957814e+01]\n",
            " [-3.37125509e+01]\n",
            " [-3.36293205e+01]\n",
            " [-3.35460900e+01]\n",
            " [-3.34628595e+01]\n",
            " [-3.33796290e+01]\n",
            " [-3.32963954e+01]\n",
            " [-3.32131650e+01]\n",
            " [-3.31299345e+01]\n",
            " [-3.30467040e+01]\n",
            " [-3.29634735e+01]\n",
            " [-3.28802430e+01]\n",
            " [-3.27970125e+01]\n",
            " [-3.27137790e+01]\n",
            " [-3.26305485e+01]\n",
            " [-3.25473180e+01]\n",
            " [-3.24640875e+01]\n",
            " [-3.23808571e+01]\n",
            " [-3.22976266e+01]\n",
            " [-3.22143930e+01]\n",
            " [-3.21311625e+01]\n",
            " [-3.20479320e+01]\n",
            " [-3.19647016e+01]\n",
            " [-3.18814711e+01]\n",
            " [-3.17982406e+01]\n",
            " [-3.17150101e+01]\n",
            " [-3.16317766e+01]\n",
            " [-3.15485461e+01]\n",
            " [-3.14653156e+01]\n",
            " [-3.13820851e+01]\n",
            " [-3.12988546e+01]\n",
            " [-3.12156241e+01]\n",
            " [-3.11323906e+01]\n",
            " [-3.10491601e+01]\n",
            " [-3.09659296e+01]\n",
            " [-3.08826991e+01]\n",
            " [-3.07994686e+01]\n",
            " [-3.07162382e+01]\n",
            " [-3.06330077e+01]\n",
            " [-3.05497741e+01]\n",
            " [-3.04665436e+01]\n",
            " [-3.03833132e+01]\n",
            " [-3.03000827e+01]\n",
            " [-3.02168522e+01]\n",
            " [-3.01336217e+01]\n",
            " [-3.00503912e+01]\n",
            " [-2.99671577e+01]\n",
            " [-2.98839272e+01]\n",
            " [-2.98006967e+01]\n",
            " [-2.97174662e+01]\n",
            " [-2.96342357e+01]\n",
            " [-2.95510052e+01]\n",
            " [-2.94677717e+01]\n",
            " [-2.93845412e+01]\n",
            " [-2.93013107e+01]\n",
            " [-2.92183070e+01]\n",
            " [-2.91353032e+01]\n",
            " [-2.90522994e+01]\n",
            " [-2.89692957e+01]\n",
            " [-2.88862919e+01]\n",
            " [-2.88032881e+01]\n",
            " [-2.87202844e+01]\n",
            " [-2.86372806e+01]\n",
            " [-2.85542768e+01]\n",
            " [-2.84712731e+01]\n",
            " [-2.83882693e+01]\n",
            " [-2.83052655e+01]\n",
            " [-2.82222648e+01]\n",
            " [-2.81392611e+01]\n",
            " [-2.80562573e+01]\n",
            " [-2.79732535e+01]\n",
            " [-2.78902498e+01]\n",
            " [-2.78072460e+01]\n",
            " [-2.77242422e+01]\n",
            " [-2.76412385e+01]\n",
            " [-2.75582347e+01]\n",
            " [-2.74752309e+01]\n",
            " [-2.73922272e+01]\n",
            " [-2.73092234e+01]\n",
            " [-2.72262196e+01]\n",
            " [-2.71432159e+01]\n",
            " [-2.70602152e+01]\n",
            " [-2.69772114e+01]\n",
            " [-2.68942076e+01]\n",
            " [-2.68112039e+01]\n",
            " [-2.67282001e+01]\n",
            " [-2.66451963e+01]\n",
            " [-2.65621926e+01]\n",
            " [-2.64791888e+01]\n",
            " [-2.63961850e+01]\n",
            " [-2.63131813e+01]\n",
            " [-2.62301591e+01]\n",
            " [-2.61469287e+01]\n",
            " [-2.60636982e+01]\n",
            " [-2.59804677e+01]\n",
            " [-2.58972372e+01]\n",
            " [-2.58140036e+01]\n",
            " [-2.57307732e+01]\n",
            " [-2.56475427e+01]\n",
            " [-2.55643122e+01]\n",
            " [-2.54810817e+01]\n",
            " [-2.53978512e+01]\n",
            " [-2.53146207e+01]\n",
            " [-2.52313872e+01]\n",
            " [-2.51481567e+01]\n",
            " [-2.50649262e+01]\n",
            " [-2.49816957e+01]\n",
            " [-2.48984652e+01]\n",
            " [-2.48152348e+01]\n",
            " [-2.47320012e+01]\n",
            " [-2.46487707e+01]\n",
            " [-2.45655402e+01]\n",
            " [-2.44823098e+01]\n",
            " [-2.43990793e+01]\n",
            " [-2.43158488e+01]\n",
            " [-2.42326183e+01]\n",
            " [-2.41493848e+01]\n",
            " [-2.40661543e+01]\n",
            " [-2.39829238e+01]\n",
            " [-2.38996933e+01]\n",
            " [-2.38164628e+01]\n",
            " [-2.37332323e+01]\n",
            " [-2.36499988e+01]\n",
            " [-2.35667683e+01]\n",
            " [-2.34835378e+01]\n",
            " [-2.34003073e+01]\n",
            " [-2.33170768e+01]\n",
            " [-2.32338464e+01]\n",
            " [-2.31506159e+01]\n",
            " [-2.30673823e+01]\n",
            " [-2.29841518e+01]\n",
            " [-2.29009214e+01]\n",
            " [-2.28176909e+01]\n",
            " [-2.27344604e+01]\n",
            " [-2.26512299e+01]\n",
            " [-2.25679994e+01]\n",
            " [-2.24847659e+01]\n",
            " [-2.24015354e+01]\n",
            " [-2.23183049e+01]\n",
            " [-2.22350744e+01]\n",
            " [-2.21518439e+01]\n",
            " [-2.20686134e+01]\n",
            " [-2.19853799e+01]\n",
            " [-2.19021494e+01]\n",
            " [-2.18189189e+01]\n",
            " [-2.17356884e+01]\n",
            " [-2.16524580e+01]\n",
            " [-2.15692275e+01]\n",
            " [-2.14859970e+01]\n",
            " [-2.14027634e+01]\n",
            " [-2.13195329e+01]\n",
            " [-2.12363025e+01]\n",
            " [-2.11530720e+01]\n",
            " [-2.10698415e+01]\n",
            " [-2.09866110e+01]\n",
            " [-2.09033775e+01]\n",
            " [-2.08201470e+01]\n",
            " [-2.07369165e+01]\n",
            " [-2.06536860e+01]\n",
            " [-2.05704555e+01]\n",
            " [-2.04872250e+01]\n",
            " [-2.04039945e+01]\n",
            " [-2.03207610e+01]\n",
            " [-2.02375305e+01]\n",
            " [-2.01543000e+01]\n",
            " [-2.00710695e+01]\n",
            " [-1.99878391e+01]\n",
            " [-1.99046086e+01]\n",
            " [-1.98213750e+01]\n",
            " [-1.97381445e+01]\n",
            " [-1.96549141e+01]\n",
            " [-1.95716836e+01]\n",
            " [-1.94884531e+01]\n",
            " [-1.94052226e+01]\n",
            " [-1.93219921e+01]\n",
            " [-1.92387586e+01]\n",
            " [-1.91555281e+01]\n",
            " [-1.90722976e+01]\n",
            " [-1.89890671e+01]\n",
            " [-1.89058366e+01]\n",
            " [-1.88226061e+01]\n",
            " [-1.87393757e+01]\n",
            " [-1.86561421e+01]\n",
            " [-1.85729116e+01]\n",
            " [-1.84896811e+01]\n",
            " [-1.84064507e+01]\n",
            " [-1.83232202e+01]\n",
            " [-1.82399897e+01]\n",
            " [-1.81567561e+01]\n",
            " [-1.80735256e+01]\n",
            " [-1.79902952e+01]\n",
            " [-1.79070647e+01]\n",
            " [-1.78238342e+01]\n",
            " [-1.77406037e+01]\n",
            " [-1.76573732e+01]\n",
            " [-1.75741397e+01]\n",
            " [-1.74909092e+01]\n",
            " [-1.74076787e+01]\n",
            " [-1.73244482e+01]\n",
            " [-1.72412177e+01]\n",
            " [-1.71579873e+01]\n",
            " [-1.70747537e+01]\n",
            " [-1.69916733e+01]\n",
            " [-1.69086696e+01]\n",
            " [-1.68256658e+01]\n",
            " [-1.67426620e+01]\n",
            " [-1.66596583e+01]\n",
            " [-1.65766545e+01]\n",
            " [-1.64936507e+01]\n",
            " [-1.64106470e+01]\n",
            " [-1.63276432e+01]\n",
            " [-1.62446395e+01]\n",
            " [-1.61616357e+01]\n",
            " [-1.60786319e+01]\n",
            " [-1.59956282e+01]\n",
            " [-1.59126244e+01]\n",
            " [-1.58296237e+01]\n",
            " [-1.57466199e+01]\n",
            " [-1.56636162e+01]\n",
            " [-1.55806124e+01]\n",
            " [-1.54976086e+01]\n",
            " [-1.54146049e+01]\n",
            " [-1.53316011e+01]\n",
            " [-1.52485973e+01]\n",
            " [-1.51655936e+01]\n",
            " [-1.50825898e+01]\n",
            " [-1.49995860e+01]\n",
            " [-1.49165823e+01]\n",
            " [-1.48335785e+01]\n",
            " [-1.47505747e+01]\n",
            " [-1.46675740e+01]\n",
            " [-1.45845703e+01]\n",
            " [-1.45015665e+01]\n",
            " [-1.44185627e+01]\n",
            " [-1.43355590e+01]\n",
            " [-1.42525552e+01]\n",
            " [-1.41695514e+01]\n",
            " [-1.40865477e+01]\n",
            " [-1.40035439e+01]\n",
            " [-1.39203716e+01]\n",
            " [-1.38371411e+01]\n",
            " [-1.37539107e+01]\n",
            " [-1.36706802e+01]\n",
            " [-1.35874497e+01]\n",
            " [-1.35042192e+01]\n",
            " [-1.34209857e+01]\n",
            " [-1.33377552e+01]\n",
            " [-1.32545247e+01]\n",
            " [-1.31712942e+01]\n",
            " [-1.30880637e+01]\n",
            " [-1.30048332e+01]\n",
            " [-1.29216027e+01]\n",
            " [-1.28383692e+01]\n",
            " [-1.27551387e+01]\n",
            " [-1.26719082e+01]\n",
            " [-1.25886777e+01]\n",
            " [-1.25054473e+01]\n",
            " [-1.24222168e+01]\n",
            " [-1.23389863e+01]\n",
            " [-1.22557527e+01]\n",
            " [-1.21725223e+01]\n",
            " [-1.20892918e+01]\n",
            " [-1.20060613e+01]\n",
            " [-1.19228308e+01]\n",
            " [-1.18396003e+01]\n",
            " [-1.17563668e+01]\n",
            " [-1.16731363e+01]\n",
            " [-1.15899058e+01]\n",
            " [-1.15066753e+01]\n",
            " [-1.14234448e+01]\n",
            " [-1.13402143e+01]\n",
            " [-1.12569839e+01]\n",
            " [-1.11737503e+01]\n",
            " [-1.10905198e+01]\n",
            " [-1.10072893e+01]\n",
            " [-1.09240589e+01]\n",
            " [-1.08408284e+01]\n",
            " [-1.07575979e+01]\n",
            " [-1.06743643e+01]\n",
            " [-1.05911338e+01]\n",
            " [-1.05079034e+01]\n",
            " [-1.04246729e+01]\n",
            " [-1.03414424e+01]\n",
            " [-1.02582119e+01]\n",
            " [-1.01749814e+01]\n",
            " [-1.00917479e+01]\n",
            " [-1.00085174e+01]\n",
            " [-9.92528690e+00]\n",
            " [-9.84205642e+00]\n",
            " [-9.75882593e+00]\n",
            " [-9.67559545e+00]\n",
            " [-9.59236190e+00]\n",
            " [-9.50913141e+00]\n",
            " [-9.42590093e+00]\n",
            " [-9.34267044e+00]\n",
            " [-9.25943996e+00]\n",
            " [-9.17620947e+00]\n",
            " [-9.09297899e+00]\n",
            " [-9.00974544e+00]\n",
            " [-8.92651496e+00]\n",
            " [-8.84328447e+00]\n",
            " [-8.76005399e+00]\n",
            " [-8.67682350e+00]\n",
            " [-8.59359302e+00]\n",
            " [-8.51036253e+00]\n",
            " [-8.42712898e+00]\n",
            " [-8.34389850e+00]\n",
            " [-8.26066801e+00]\n",
            " [-8.17743753e+00]\n",
            " [-8.09420704e+00]\n",
            " [-8.01097656e+00]\n",
            " [-7.92774301e+00]\n",
            " [-7.84451252e+00]\n",
            " [-7.76128204e+00]\n",
            " [-7.67805155e+00]\n",
            " [-7.59482107e+00]\n",
            " [-7.51159058e+00]\n",
            " [-7.42836010e+00]\n",
            " [-7.34512655e+00]\n",
            " [-7.26189606e+00]\n",
            " [-7.17866558e+00]\n",
            " [-7.09543509e+00]\n",
            " [-7.01220461e+00]\n",
            " [-6.92897412e+00]\n",
            " [-6.84574058e+00]\n",
            " [-6.76251009e+00]\n",
            " [-6.67927961e+00]\n",
            " [-6.59604912e+00]\n",
            " [-6.51281864e+00]\n",
            " [-6.42958815e+00]\n",
            " [-6.34635767e+00]\n",
            " [-6.26312412e+00]\n",
            " [-6.17989363e+00]\n",
            " [-6.09666315e+00]\n",
            " [-6.01343266e+00]\n",
            " [-5.93020218e+00]\n",
            " [-5.84697169e+00]\n",
            " [-5.76373814e+00]\n",
            " [-5.68050766e+00]\n",
            " [-5.59727717e+00]\n",
            " [-5.51404669e+00]\n",
            " [-5.43081620e+00]\n",
            " [-5.34758572e+00]\n",
            " [-5.26435523e+00]\n",
            " [-5.18112168e+00]\n",
            " [-5.09789120e+00]\n",
            " [-5.01466071e+00]\n",
            " [-4.93143023e+00]\n",
            " [-4.84819974e+00]\n",
            " [-4.76503666e+00]\n",
            " [-4.68203596e+00]\n",
            " [-4.59903219e+00]\n",
            " [-4.51602843e+00]\n",
            " [-4.43302466e+00]\n",
            " [-4.35002090e+00]\n",
            " [-4.26701713e+00]\n",
            " [-4.18401337e+00]\n",
            " [-4.10100960e+00]\n",
            " [-4.01800583e+00]\n",
            " [-3.93500207e+00]\n",
            " [-3.85199830e+00]\n",
            " [-3.76899454e+00]\n",
            " [-3.68599077e+00]\n",
            " [-3.60298701e+00]\n",
            " [-3.51998630e+00]\n",
            " [-3.43698254e+00]\n",
            " [-3.35397877e+00]\n",
            " [-3.27097501e+00]\n",
            " [-3.18797124e+00]\n",
            " [-3.10496748e+00]\n",
            " [-3.02196371e+00]\n",
            " [-2.93895994e+00]\n",
            " [-2.85595618e+00]\n",
            " [-2.77295241e+00]\n",
            " [-2.68994865e+00]\n",
            " [-2.60694488e+00]\n",
            " [-2.52394112e+00]\n",
            " [-2.44093735e+00]\n",
            " [-2.35793665e+00]\n",
            " [-2.27493288e+00]\n",
            " [-2.19192912e+00]\n",
            " [-2.10892535e+00]\n",
            " [-2.02592158e+00]\n",
            " [-1.94291782e+00]\n",
            " [-1.85991405e+00]\n",
            " [-1.77691029e+00]\n",
            " [-1.69381767e+00]\n",
            " [-1.61058719e+00]\n",
            " [-1.52735364e+00]\n",
            " [-1.44412315e+00]\n",
            " [-1.36089267e+00]\n",
            " [-1.27766218e+00]\n",
            " [-1.19443170e+00]\n",
            " [-1.11120121e+00]\n",
            " [-1.02797073e+00]\n",
            " [-9.44737180e-01]\n",
            " [-8.61506695e-01]\n",
            " [-7.78276210e-01]\n",
            " [-6.95045725e-01]\n",
            " [-6.11815240e-01]\n",
            " [-5.28584755e-01]\n",
            " [-4.45351206e-01]\n",
            " [-3.62120721e-01]\n",
            " [-2.78890236e-01]\n",
            " [-1.95659751e-01]\n",
            " [-1.12429266e-01]\n",
            " [-2.91987813e-02]\n",
            " [ 5.40317037e-02]\n",
            " [ 1.37265253e-01]\n",
            " [ 2.20495738e-01]\n",
            " [ 3.03726223e-01]\n",
            " [ 3.86956708e-01]\n",
            " [ 4.70187193e-01]\n",
            " [ 5.53417678e-01]\n",
            " [ 6.36651226e-01]\n",
            " [ 7.19881711e-01]\n",
            " [ 8.03112196e-01]\n",
            " [ 8.86342681e-01]\n",
            " [ 9.69573166e-01]\n",
            " [ 1.05280365e+00]\n",
            " [ 1.13603414e+00]\n",
            " [ 1.21926769e+00]\n",
            " [ 1.30249817e+00]\n",
            " [ 1.38572866e+00]\n",
            " [ 1.46895914e+00]\n",
            " [ 1.55218963e+00]\n",
            " [ 1.63542011e+00]\n",
            " [ 1.71865366e+00]\n",
            " [ 1.80188414e+00]\n",
            " [ 1.88511463e+00]\n",
            " [ 1.96834511e+00]\n",
            " [ 2.05157560e+00]\n",
            " [ 2.13480608e+00]\n",
            " [ 2.21803657e+00]\n",
            " [ 2.30127012e+00]\n",
            " [ 2.38450060e+00]\n",
            " [ 2.46773109e+00]\n",
            " [ 2.55096157e+00]\n",
            " [ 2.63419206e+00]\n",
            " [ 2.71742254e+00]\n",
            " [ 2.80065303e+00]\n",
            " [ 2.88388658e+00]\n",
            " [ 2.96711706e+00]\n",
            " [ 3.05034755e+00]\n",
            " [ 3.13357803e+00]\n",
            " [ 3.21680852e+00]\n",
            " [ 3.30003900e+00]\n",
            " [ 3.38327255e+00]\n",
            " [ 3.46650304e+00]\n",
            " [ 3.54973352e+00]\n",
            " [ 3.63296401e+00]\n",
            " [ 3.71619449e+00]\n",
            " [ 3.79942498e+00]\n",
            " [ 3.88265546e+00]\n",
            " [ 3.96588748e+00]\n",
            " [ 4.04911949e+00]\n",
            " [ 4.13234998e+00]\n",
            " [ 4.21558046e+00]\n",
            " [ 4.29881095e+00]\n",
            " [ 4.38204143e+00]\n",
            " [ 4.46527498e+00]\n",
            " [ 4.54850547e+00]\n",
            " [ 4.63173595e+00]\n",
            " [ 4.71496644e+00]\n",
            " [ 4.79819692e+00]\n",
            " [ 4.88142741e+00]\n",
            " [ 4.96465789e+00]\n",
            " [ 5.04789144e+00]\n",
            " [ 5.13112193e+00]\n",
            " [ 5.21435241e+00]\n",
            " [ 5.29758290e+00]\n",
            " [ 5.38081338e+00]\n",
            " [ 5.46404387e+00]\n",
            " [ 5.54727742e+00]\n",
            " [ 5.63050790e+00]\n",
            " [ 5.71373839e+00]\n",
            " [ 5.79696887e+00]\n",
            " [ 5.88019936e+00]\n",
            " [ 5.96342984e+00]\n",
            " [ 6.04666033e+00]\n",
            " [ 6.12989387e+00]\n",
            " [ 6.21312436e+00]\n",
            " [ 6.29635484e+00]\n",
            " [ 6.37958533e+00]\n",
            " [ 6.46281581e+00]\n",
            " [ 6.54604630e+00]\n",
            " [ 6.62927678e+00]\n",
            " [ 6.71251033e+00]\n",
            " [ 6.79574082e+00]\n",
            " [ 6.87897130e+00]\n",
            " [ 6.96220179e+00]\n",
            " [ 7.04543227e+00]\n",
            " [ 7.12866276e+00]\n",
            " [ 7.21189631e+00]\n",
            " [ 7.29512679e+00]\n",
            " [ 7.37835728e+00]\n",
            " [ 7.46158776e+00]\n",
            " [ 7.54460072e+00]\n",
            " [ 7.62760448e+00]\n",
            " [ 7.71060519e+00]\n",
            " [ 7.79360895e+00]\n",
            " [ 7.87661272e+00]\n",
            " [ 7.95961648e+00]\n",
            " [ 8.04262025e+00]\n",
            " [ 8.12562401e+00]\n",
            " [ 8.20862778e+00]\n",
            " [ 8.29163155e+00]\n",
            " [ 8.37463531e+00]\n",
            " [ 8.45763908e+00]\n",
            " [ 8.54064284e+00]\n",
            " [ 8.62364661e+00]\n",
            " [ 8.70665037e+00]\n",
            " [ 8.78965414e+00]\n",
            " [ 8.87265484e+00]\n",
            " [ 8.95565861e+00]\n",
            " [ 9.03866237e+00]\n",
            " [ 9.12166614e+00]\n",
            " [ 9.20466991e+00]\n",
            " [ 9.28767367e+00]\n",
            " [ 9.37067744e+00]\n",
            " [ 9.45368120e+00]\n",
            " [ 9.53668497e+00]\n",
            " [ 9.61968873e+00]\n",
            " [ 9.70269250e+00]\n",
            " [ 9.78569627e+00]\n",
            " [ 9.86870003e+00]\n",
            " [ 9.95170380e+00]\n",
            " [ 1.00347045e+01]\n",
            " [ 1.01177083e+01]\n",
            " [ 1.02007120e+01]\n",
            " [ 1.02837158e+01]\n",
            " [ 1.03667196e+01]\n",
            " [ 1.04497233e+01]\n",
            " [ 1.05327393e+01]\n",
            " [ 1.06159698e+01]\n",
            " [ 1.06992003e+01]\n",
            " [ 1.07824308e+01]\n",
            " [ 1.08656644e+01]\n",
            " [ 1.09488948e+01]\n",
            " [ 1.10321253e+01]\n",
            " [ 1.11153558e+01]\n",
            " [ 1.11985863e+01]\n",
            " [ 1.12818168e+01]\n",
            " [ 1.13650473e+01]\n",
            " [ 1.14482808e+01]\n",
            " [ 1.15315113e+01]\n",
            " [ 1.16147418e+01]\n",
            " [ 1.16979723e+01]\n",
            " [ 1.17812028e+01]\n",
            " [ 1.18644332e+01]\n",
            " [ 1.19476668e+01]\n",
            " [ 1.20308973e+01]\n",
            " [ 1.21141278e+01]\n",
            " [ 1.21973582e+01]\n",
            " [ 1.22805887e+01]\n",
            " [ 1.23638192e+01]\n",
            " [ 1.24470497e+01]\n",
            " [ 1.25302832e+01]\n",
            " [ 1.26135137e+01]\n",
            " [ 1.26967442e+01]\n",
            " [ 1.27799747e+01]\n",
            " [ 1.28632052e+01]\n",
            " [ 1.29464357e+01]\n",
            " [ 1.30296662e+01]\n",
            " [ 1.31128997e+01]\n",
            " [ 1.31961302e+01]\n",
            " [ 1.32793607e+01]\n",
            " [ 1.33625912e+01]\n",
            " [ 1.34458216e+01]\n",
            " [ 1.35290521e+01]\n",
            " [ 1.36122857e+01]\n",
            " [ 1.36955162e+01]\n",
            " [ 1.37787466e+01]\n",
            " [ 1.38619771e+01]\n",
            " [ 1.39452076e+01]\n",
            " [ 1.40284381e+01]\n",
            " [ 1.41116686e+01]\n",
            " [ 1.41949021e+01]\n",
            " [ 1.42781326e+01]\n",
            " [ 1.43613631e+01]\n",
            " [ 1.44445936e+01]\n",
            " [ 1.45278241e+01]\n",
            " [ 1.46110546e+01]\n",
            " [ 1.46942881e+01]\n",
            " [ 1.47775186e+01]\n",
            " [ 1.48607491e+01]\n",
            " [ 1.49439796e+01]\n",
            " [ 1.50272100e+01]\n",
            " [ 1.51104405e+01]\n",
            " [ 1.51936710e+01]\n",
            " [ 1.52769046e+01]\n",
            " [ 1.53601351e+01]\n",
            " [ 1.54433655e+01]\n",
            " [ 1.55265960e+01]\n",
            " [ 1.56098265e+01]\n",
            " [ 1.56930570e+01]\n",
            " [ 1.57762905e+01]\n",
            " [ 1.58595210e+01]\n",
            " [ 1.59427515e+01]\n",
            " [ 1.60259820e+01]\n",
            " [ 1.61092125e+01]\n",
            " [ 1.61924430e+01]\n",
            " [ 1.62756735e+01]\n",
            " [ 1.63589070e+01]\n",
            " [ 1.64421375e+01]\n",
            " [ 1.65253680e+01]\n",
            " [ 1.66085985e+01]\n",
            " [ 1.66918289e+01]\n",
            " [ 1.67750594e+01]\n",
            " [ 1.68582930e+01]\n",
            " [ 1.69415235e+01]\n",
            " [ 1.70247539e+01]\n",
            " [ 1.71079844e+01]\n",
            " [ 1.71912149e+01]\n",
            " [ 1.72744454e+01]\n",
            " [ 1.73576759e+01]\n",
            " [ 1.74409094e+01]\n",
            " [ 1.75241399e+01]\n",
            " [ 1.76073704e+01]\n",
            " [ 1.76906009e+01]\n",
            " [ 1.77738314e+01]\n",
            " [ 1.78570619e+01]\n",
            " [ 1.79402923e+01]\n",
            " [ 1.80235259e+01]\n",
            " [ 1.81067564e+01]\n",
            " [ 1.81899869e+01]\n",
            " [ 1.82732173e+01]\n",
            " [ 1.83564478e+01]\n",
            " [ 1.84396783e+01]\n",
            " [ 1.85229119e+01]\n",
            " [ 1.86061424e+01]\n",
            " [ 1.86893728e+01]\n",
            " [ 1.87726033e+01]\n",
            " [ 1.88558338e+01]\n",
            " [ 1.89390643e+01]\n",
            " [ 1.90222948e+01]\n",
            " [ 1.91055283e+01]\n",
            " [ 1.91887588e+01]\n",
            " [ 1.92719893e+01]\n",
            " [ 1.93552198e+01]\n",
            " [ 1.94384503e+01]\n",
            " [ 1.95216807e+01]\n",
            " [ 1.96049143e+01]\n",
            " [ 1.96881448e+01]\n",
            " [ 1.97712343e+01]\n",
            " [ 1.98542381e+01]\n",
            " [ 1.99372419e+01]\n",
            " [ 2.00202456e+01]\n",
            " [ 2.01032463e+01]\n",
            " [ 2.01862501e+01]\n",
            " [ 2.02692539e+01]\n",
            " [ 2.03522576e+01]\n",
            " [ 2.04352614e+01]\n",
            " [ 2.05182652e+01]\n",
            " [ 2.06012689e+01]\n",
            " [ 2.06842727e+01]\n",
            " [ 2.07672765e+01]\n",
            " [ 2.08502802e+01]\n",
            " [ 2.09332840e+01]\n",
            " [ 2.10162878e+01]\n",
            " [ 2.10992915e+01]\n",
            " [ 2.11822953e+01]\n",
            " [ 2.12652960e+01]\n",
            " [ 2.13482998e+01]\n",
            " [ 2.14313035e+01]\n",
            " [ 2.15143073e+01]\n",
            " [ 2.15973111e+01]\n",
            " [ 2.16803148e+01]\n",
            " [ 2.17633186e+01]\n",
            " [ 2.18463223e+01]\n",
            " [ 2.19293261e+01]\n",
            " [ 2.20123299e+01]\n",
            " [ 2.20953336e+01]\n",
            " [ 2.21783374e+01]\n",
            " [ 2.22613412e+01]\n",
            " [ 2.23443419e+01]\n",
            " [ 2.24273456e+01]\n",
            " [ 2.25103494e+01]\n",
            " [ 2.25933532e+01]\n",
            " [ 2.26763569e+01]\n",
            " [ 2.27593607e+01]\n",
            " [ 2.28425269e+01]\n",
            " [ 2.29257573e+01]\n",
            " [ 2.30089878e+01]\n",
            " [ 2.30922183e+01]\n",
            " [ 2.31754488e+01]\n",
            " [ 2.32586823e+01]\n",
            " [ 2.33419128e+01]\n",
            " [ 2.34251433e+01]\n",
            " [ 2.35083738e+01]\n",
            " [ 2.35916043e+01]\n",
            " [ 2.36748348e+01]\n",
            " [ 2.37580653e+01]\n",
            " [ 2.38412988e+01]\n",
            " [ 2.39245293e+01]\n",
            " [ 2.40077598e+01]\n",
            " [ 2.40909903e+01]\n",
            " [ 2.41742207e+01]\n",
            " [ 2.42574512e+01]\n",
            " [ 2.43406817e+01]\n",
            " [ 2.44239153e+01]\n",
            " [ 2.45071457e+01]\n",
            " [ 2.45903762e+01]\n",
            " [ 2.46736067e+01]\n",
            " [ 2.47568372e+01]\n",
            " [ 2.48400677e+01]\n",
            " [ 2.49233012e+01]\n",
            " [ 2.50065317e+01]\n",
            " [ 2.50897622e+01]\n",
            " [ 2.51729927e+01]\n",
            " [ 2.52562232e+01]\n",
            " [ 2.53394537e+01]\n",
            " [ 2.54226841e+01]\n",
            " [ 2.55059177e+01]\n",
            " [ 2.55891482e+01]\n",
            " [ 2.56723787e+01]\n",
            " [ 2.57556091e+01]\n",
            " [ 2.58388396e+01]\n",
            " [ 2.59220701e+01]\n",
            " [ 2.60053037e+01]\n",
            " [ 2.60885342e+01]\n",
            " [ 2.61717646e+01]\n",
            " [ 2.62549951e+01]\n",
            " [ 2.63382256e+01]\n",
            " [ 2.64214561e+01]\n",
            " [ 2.65046866e+01]\n",
            " [ 2.65879201e+01]\n",
            " [ 2.66711506e+01]\n",
            " [ 2.67543811e+01]\n",
            " [ 2.68376116e+01]\n",
            " [ 2.69208421e+01]\n",
            " [ 2.70040726e+01]\n",
            " [ 2.70873061e+01]\n",
            " [ 2.71705366e+01]\n",
            " [ 2.72537671e+01]\n",
            " [ 2.73369976e+01]\n",
            " [ 2.74202280e+01]\n",
            " [ 2.75034585e+01]\n",
            " [ 2.75866890e+01]\n",
            " [ 2.76699226e+01]\n",
            " [ 2.77531530e+01]\n",
            " [ 2.78363835e+01]\n",
            " [ 2.79196140e+01]\n",
            " [ 2.80028445e+01]\n",
            " [ 2.80860750e+01]\n",
            " [ 2.81693055e+01]\n",
            " [ 2.82525390e+01]\n",
            " [ 2.83357695e+01]\n",
            " [ 2.84190000e+01]\n",
            " [ 2.85022305e+01]\n",
            " [ 2.85854610e+01]\n",
            " [ 2.86686914e+01]\n",
            " [ 2.87519250e+01]\n",
            " [ 2.88351555e+01]\n",
            " [ 2.89183860e+01]\n",
            " [ 2.90016164e+01]\n",
            " [ 2.90848469e+01]\n",
            " [ 2.91680774e+01]\n",
            " [ 2.92513079e+01]\n",
            " [ 2.93345414e+01]\n",
            " [ 2.94177719e+01]\n",
            " [ 2.95010024e+01]\n",
            " [ 2.95842329e+01]\n",
            " [ 2.96674634e+01]\n",
            " [ 2.97506939e+01]\n",
            " [ 2.98339274e+01]\n",
            " [ 2.99171579e+01]\n",
            " [ 3.00003884e+01]\n",
            " [ 3.00836189e+01]\n",
            " [ 3.01668494e+01]\n",
            " [ 3.02500798e+01]\n",
            " [ 3.03333103e+01]\n",
            " [ 3.04165439e+01]\n",
            " [ 3.04997744e+01]\n",
            " [ 3.05830049e+01]\n",
            " [ 3.06662353e+01]\n",
            " [ 3.07494658e+01]\n",
            " [ 3.08326963e+01]\n",
            " [ 3.09159299e+01]\n",
            " [ 3.09991603e+01]\n",
            " [ 3.10823908e+01]\n",
            " [ 3.11656213e+01]\n",
            " [ 3.12488518e+01]\n",
            " [ 3.13320823e+01]\n",
            " [ 3.14153128e+01]\n",
            " [ 3.14985463e+01]\n",
            " [ 3.15817768e+01]\n",
            " [ 3.16650073e+01]\n",
            " [ 3.17482378e+01]\n",
            " [ 3.18314683e+01]\n",
            " [ 3.19146987e+01]\n",
            " [ 3.19978679e+01]\n",
            " [ 3.20808717e+01]\n",
            " [ 3.21638755e+01]\n",
            " [ 3.22468792e+01]\n",
            " [ 3.23298830e+01]\n",
            " [ 3.24128837e+01]\n",
            " [ 3.24958875e+01]\n",
            " [ 3.25788912e+01]\n",
            " [ 3.26618950e+01]\n",
            " [ 3.27448988e+01]\n",
            " [ 3.28279025e+01]\n",
            " [ 3.29109063e+01]\n",
            " [ 3.29939101e+01]\n",
            " [ 3.30769138e+01]\n",
            " [ 3.31599176e+01]\n",
            " [ 3.32429214e+01]\n",
            " [ 3.33259251e+01]\n",
            " [ 3.34089289e+01]\n",
            " [ 3.34919327e+01]\n",
            " [ 3.35749334e+01]\n",
            " [ 3.36579371e+01]\n",
            " [ 3.37409409e+01]\n",
            " [ 3.38239447e+01]\n",
            " [ 3.39069484e+01]\n",
            " [ 3.39899522e+01]\n",
            " [ 3.40729560e+01]\n",
            " [ 3.41559597e+01]\n",
            " [ 3.42389635e+01]\n",
            " [ 3.43219673e+01]\n",
            " [ 3.44049710e+01]\n",
            " [ 3.44879748e+01]\n",
            " [ 3.45709786e+01]\n",
            " [ 3.46539823e+01]\n",
            " [ 3.47369830e+01]\n",
            " [ 3.48199868e+01]\n",
            " [ 3.49029906e+01]\n",
            " [ 3.49859943e+01]\n",
            " [ 3.50690808e+01]\n",
            " [ 3.51523144e+01]\n",
            " [ 3.52355448e+01]\n",
            " [ 3.53187753e+01]\n",
            " [ 3.54020058e+01]\n",
            " [ 3.54852363e+01]\n",
            " [ 3.55684668e+01]\n",
            " [ 3.56516973e+01]\n",
            " [ 3.57349308e+01]\n",
            " [ 3.58181613e+01]\n",
            " [ 3.59013918e+01]\n",
            " [ 3.59846223e+01]\n",
            " [ 3.60678528e+01]\n",
            " [ 3.61510832e+01]\n",
            " [ 3.62343168e+01]\n",
            " [ 3.63175473e+01]\n",
            " [ 3.64007778e+01]\n",
            " [ 3.64840082e+01]\n",
            " [ 3.65672387e+01]\n",
            " [ 3.66504692e+01]\n",
            " [ 3.67336997e+01]\n",
            " [ 3.68169333e+01]\n",
            " [ 3.69001637e+01]\n",
            " [ 3.69833942e+01]\n",
            " [ 3.70666247e+01]\n",
            " [ 3.71498552e+01]\n",
            " [ 3.72330857e+01]\n",
            " [ 3.73163192e+01]\n",
            " [ 3.73995497e+01]\n",
            " [ 3.74827802e+01]\n",
            " [ 3.75660107e+01]\n",
            " [ 3.76492412e+01]\n",
            " [ 3.77324717e+01]\n",
            " [ 3.78157021e+01]\n",
            " [ 3.78989357e+01]\n",
            " [ 3.79821662e+01]\n",
            " [ 3.80653967e+01]\n",
            " [ 3.81486271e+01]\n",
            " [ 3.82318576e+01]\n",
            " [ 3.83150881e+01]\n",
            " [ 3.83983217e+01]\n",
            " [ 3.84815521e+01]\n",
            " [ 3.85647826e+01]\n",
            " [ 3.86480131e+01]\n",
            " [ 3.87312436e+01]\n",
            " [ 3.88144741e+01]\n",
            " [ 3.88977046e+01]\n",
            " [ 3.89809381e+01]\n",
            " [ 3.90641686e+01]\n",
            " [ 3.91473991e+01]\n",
            " [ 3.92306296e+01]\n",
            " [ 3.93138601e+01]\n",
            " [ 3.93970905e+01]\n",
            " [ 3.94803210e+01]\n",
            " [ 3.95635546e+01]\n",
            " [ 3.96467851e+01]\n",
            " [ 3.97300155e+01]\n",
            " [ 3.98132460e+01]\n",
            " [ 3.98964765e+01]\n",
            " [ 3.99797070e+01]\n",
            " [ 4.00629405e+01]\n",
            " [ 4.01461710e+01]\n",
            " [ 4.02294015e+01]\n",
            " [ 4.03126320e+01]\n",
            " [ 4.03958625e+01]\n",
            " [ 4.04790930e+01]\n",
            " [ 4.05623235e+01]\n",
            " [ 4.06455570e+01]\n",
            " [ 4.07287875e+01]\n",
            " [ 4.08120180e+01]\n",
            " [ 4.08952485e+01]\n",
            " [ 4.09784789e+01]\n",
            " [ 4.10617094e+01]\n",
            " [ 4.11449430e+01]\n",
            " [ 4.12281735e+01]\n",
            " [ 4.13114040e+01]\n",
            " [ 4.13946344e+01]\n",
            " [ 4.14778649e+01]\n",
            " [ 4.15610954e+01]\n",
            " [ 4.16443259e+01]\n",
            " [ 4.17275594e+01]\n",
            " [ 4.18107899e+01]\n",
            " [ 4.18940204e+01]\n",
            " [ 4.19772509e+01]\n",
            " [ 4.20604814e+01]\n",
            " [ 4.21437119e+01]\n",
            " [ 4.22269454e+01]\n",
            " [ 4.23101759e+01]\n",
            " [ 4.23934064e+01]\n",
            " [ 4.24766369e+01]\n",
            " [ 4.25598674e+01]\n",
            " [ 4.26430978e+01]\n",
            " [ 4.27263283e+01]\n",
            " [ 4.28095619e+01]\n",
            " [ 4.28927924e+01]\n",
            " [ 4.29760228e+01]\n",
            " [ 4.30592533e+01]\n",
            " [ 4.31424838e+01]\n",
            " [ 4.32257143e+01]\n",
            " [ 4.33089448e+01]\n",
            " [ 4.33921783e+01]\n",
            " [ 4.34754088e+01]\n",
            " [ 4.35586393e+01]\n",
            " [ 4.36418698e+01]\n",
            " [ 4.37251003e+01]\n",
            " [ 4.38083308e+01]\n",
            " [ 4.38915643e+01]\n",
            " [ 4.39747948e+01]\n",
            " [ 4.40580253e+01]\n",
            " [ 4.41412558e+01]\n",
            " [ 4.42244862e+01]\n",
            " [ 4.43075053e+01]\n",
            " [ 4.43905091e+01]]\n"
          ],
          "name": "stdout"
        }
      ]
    },
    {
      "cell_type": "markdown",
      "metadata": {
        "id": "W-Ksnqu9Ujs0",
        "colab_type": "text"
      },
      "source": [
        "**Q4:** Split the (detrended) time series into training and validation sets. Use the values from the beginning up to the 700th time point (i.e. $y_t$ for $t=1$ to $t=700$) as your training data, and the rest of the values as your validation data. Plot the two data sets.\n",
        "\n",
        "_Note:_ In the above, we have allowed ourselves to use all the available data (train + validation) when detrending. An alternative would be to use only the training data also when detrending the model. The latter approach is more suitable if, either:\n",
        "* we view the linear detrending as part of the model choice. Perhaps we wish to compare different polynomial trend models, and evaluate their performance on the validation data, or\n",
        "* we wish to use the second chunk of observations to estimate the performance of the final model on unseen data (in that case it is often referred to as \"test data\" instead of \"validation data\"), in which case we should not use these observations when fitting the model, including the detrending step.\n",
        "\n",
        "In this laboration we consider the linear detrending as a predetermined preprocessing step and therefore allow ourselves to use the validation data when computing the linear trend."
      ]
    },
    {
      "cell_type": "markdown",
      "metadata": {
        "id": "5YlWS6P2Ujs1",
        "colab_type": "text"
      },
      "source": [
        "**A4:**"
      ]
    },
    {
      "cell_type": "code",
      "metadata": {
        "id": "7ATtFb1SUjs1",
        "colab_type": "code",
        "colab": {}
      },
      "source": [
        ""
      ],
      "execution_count": null,
      "outputs": []
    },
    {
      "cell_type": "markdown",
      "metadata": {
        "id": "EiYWtJV6Ujs4",
        "colab_type": "text"
      },
      "source": [
        "## 1.2 Fit an autoregressive model\n",
        "We will now fit an AR$(p)$ model to the training data for a given value of the model order $p$."
      ]
    },
    {
      "cell_type": "markdown",
      "metadata": {
        "id": "we75S63YUjs4",
        "colab_type": "text"
      },
      "source": [
        "**Q5**: Create a function that fits an AR$(p)$ model for an arbitrary value of p. Use this function to fit a model of order $p=10$ to the training data and write out (or plot) the coefficients.\n",
        "\n",
        "_Hint:_ Since fitting an AR model is essentially just a standard linear regression we can make use of `lm.LinearRegression().fit(...)` similarly to above. You may use the template below and simply fill in the missing code."
      ]
    },
    {
      "cell_type": "markdown",
      "metadata": {
        "id": "ATuLwlKBUjs5",
        "colab_type": "text"
      },
      "source": [
        "**A5:**"
      ]
    },
    {
      "cell_type": "code",
      "metadata": {
        "id": "ILqEOhW2Ujs6",
        "colab_type": "code",
        "colab": {}
      },
      "source": [
        "def fit_ar(y, p):\n",
        "    \"\"\"Fits an AR(p) model. The loss function is the sum of squared errors from t=p+1 to t=n.\n",
        "\n",
        "    :param y: array (n,), training data points\n",
        "    :param p: int, AR model order\n",
        "    :return theta: array (p,), learnt AR coefficients\n",
        "    \"\"\"\n",
        "\n",
        "    # Number of training data points\n",
        "    n = ... # <COMPLETE THIS LINE>\n",
        "    \n",
        "    # Construct the regression matrix\n",
        "    Phi = np.zeros( ... # <COMPLETE THIS LINE>\n",
        "    for j in range(p):\n",
        "        Phi[:,j] = ... # <COMPLETE THIS LINE>\n",
        "    \n",
        "    # Drop the first p values from the target vector y\n",
        "    yy = y[p:]  # yy = (y_{t+p+1}, ..., y_n)\n",
        "\n",
        "    # Here we use fit_intercept=False since we do not want to include an intercept term in the AR model\n",
        "    regr = lm.LinearRegression(fit_intercept=False)\n",
        "    regr.fit(Phi,yy)    \n",
        "\n",
        "    return regr.coef_"
      ],
      "execution_count": null,
      "outputs": []
    },
    {
      "cell_type": "code",
      "metadata": {
        "id": "p7odbXlrUjs9",
        "colab_type": "code",
        "colab": {}
      },
      "source": [
        ""
      ],
      "execution_count": null,
      "outputs": []
    },
    {
      "cell_type": "markdown",
      "metadata": {
        "id": "2jrgekvEUjtA",
        "colab_type": "text"
      },
      "source": [
        "**Q6:** Next, write a function that computes the one-step-ahead prediction of your fitted model. 'One-step-ahead' here means that in order to predict $y_t$ at $t=t_0$, we use the actual values of $y_t$ for $t<t_0$ from the data. Use your function to compute the predictions for both *training data* and *validation data*. Plot the predictions together with the data (you can plot both training and validation data in the same figure). Also plot the *residuals*.\n",
        "\n",
        "_Hint:_ It is enought to call the predict function once, for both training and validation data at the same time."
      ]
    },
    {
      "cell_type": "markdown",
      "metadata": {
        "id": "JmOlqK-vUjtA",
        "colab_type": "text"
      },
      "source": [
        "**A6:**"
      ]
    },
    {
      "cell_type": "code",
      "metadata": {
        "id": "rFqbTyitUjtB",
        "colab_type": "code",
        "colab": {}
      },
      "source": [
        "def predict_ar_1step(theta, y_target):\n",
        "    \"\"\"Predicts the value y_t for t = p+1, ..., n, for an AR(p) model, based on the data in y_target using\n",
        "    one-step-ahead prediction.\n",
        "\n",
        "    :param theta: array (p,), AR coefficients, theta=(a1,a2,...,ap).\n",
        "    :param y_target: array (n,), the data points used to compute the predictions.\n",
        "    :return y_pred: array (n-p,), the one-step predictions (\\hat y_{p+1}, ...., \\hat y_n) \n",
        "    \"\"\"\n",
        "\n",
        "    n = len(y_target)\n",
        "    p = len(theta)\n",
        "    \n",
        "    # Number of steps in prediction\n",
        "    m = n-p\n",
        "    y_pred = np.zeros(m)\n",
        "    \n",
        "    for i in range(m):\n",
        "        # <COMPLETE THIS CODE BLOCK>\n",
        "        y_pred[i] = ... # <COMPLETE THIS LINE>\n",
        "        \n",
        "    return y_pred"
      ],
      "execution_count": null,
      "outputs": []
    },
    {
      "cell_type": "code",
      "metadata": {
        "id": "M-Kc0nsqUjtE",
        "colab_type": "code",
        "colab": {}
      },
      "source": [
        ""
      ],
      "execution_count": null,
      "outputs": []
    },
    {
      "cell_type": "markdown",
      "metadata": {
        "id": "I66b5n5cUjtH",
        "colab_type": "text"
      },
      "source": [
        "**Q7:** Compute and plot the autocorrelation function (ACF) of the *residuals* only for the *validation data*. What conclusions can you draw from the ACF plot?\n",
        "\n",
        "_Hint:_ You can use the function `acfplot` from the `tssltools` module, available on the course web page."
      ]
    },
    {
      "cell_type": "markdown",
      "metadata": {
        "id": "pTwr9lZ7UjtI",
        "colab_type": "text"
      },
      "source": [
        "**A7:**"
      ]
    },
    {
      "cell_type": "code",
      "metadata": {
        "id": "0muJX3_NUjtI",
        "colab_type": "code",
        "colab": {},
        "outputId": "b01d2992-0406-4d89-c78c-fe76c62bf372"
      },
      "source": [
        "help(acfplot)"
      ],
      "execution_count": null,
      "outputs": [
        {
          "output_type": "stream",
          "text": [
            "Help on function acfplot in module tssltools_lab1:\n",
            "\n",
            "acfplot(x, lags=None, conf=0.95)\n",
            "    Plots the empirical autocorralation function.\n",
            "    \n",
            "    :param x: array (n,), sequence of data points\n",
            "    :param lags: int, maximum lag to compute the ACF for. If None, this is set to n. Default is None.\n",
            "    :param conf: float, number in the interval [0,1] which specifies the confidence level (based on a central limit\n",
            "                 theorem under a white noise assumption) for two dashed lines drawn in the plot. Default is 0.95.\n",
            "    :return:\n",
            "\n"
          ],
          "name": "stdout"
        }
      ]
    },
    {
      "cell_type": "markdown",
      "metadata": {
        "id": "VuogJX4YUjtN",
        "colab_type": "text"
      },
      "source": [
        ""
      ]
    },
    {
      "cell_type": "markdown",
      "metadata": {
        "id": "295cHWJJUjtN",
        "colab_type": "text"
      },
      "source": [
        "## 1.3 Model validation and order selection\n",
        "Above we set the model order $p=10$ quite arbitrarily. In this section we will try to find an appropriate order by validation."
      ]
    },
    {
      "cell_type": "markdown",
      "metadata": {
        "id": "A9JKdHHPUjtO",
        "colab_type": "text"
      },
      "source": [
        "**Q8**: Write a loop in which AR-models of orders from $p=2$ to $p=150$ are fitted to the data above. Plot the training and validation mean-squared errors for the one-step-ahead predictions versus the model order.\n",
        "\n",
        "Based on your results:\n",
        "- What is the main difference between the changes in training error and validation error as the order increases? \n",
        "- Based on these results, which model order would you suggest to use and why?\n",
        "\n",
        "_Note:_ There is no obvious \"correct answer\" to the second question, but you still need to pick an order an motivate your choice!\n"
      ]
    },
    {
      "cell_type": "markdown",
      "metadata": {
        "id": "7NOJjU4_UjtP",
        "colab_type": "text"
      },
      "source": [
        "**A8:**"
      ]
    },
    {
      "cell_type": "code",
      "metadata": {
        "id": "F9RRgFcAUjtP",
        "colab_type": "code",
        "colab": {}
      },
      "source": [
        ""
      ],
      "execution_count": null,
      "outputs": []
    },
    {
      "cell_type": "markdown",
      "metadata": {
        "id": "BbWmuKBsUjtU",
        "colab_type": "text"
      },
      "source": [
        ""
      ]
    },
    {
      "cell_type": "markdown",
      "metadata": {
        "id": "KObzdyziUjtU",
        "colab_type": "text"
      },
      "source": [
        "**Q9:** Based on the chosen model order, compute the residuals of the one-step-ahead predictions on the *validation data*. Plot the autocorrelation function of the residuals. What conclusions can you draw? Compare to the ACF plot generated above for p=10."
      ]
    },
    {
      "cell_type": "code",
      "metadata": {
        "id": "f0cV8R1jUjtV",
        "colab_type": "code",
        "colab": {}
      },
      "source": [
        ""
      ],
      "execution_count": null,
      "outputs": []
    },
    {
      "cell_type": "markdown",
      "metadata": {
        "id": "rhRTt6IZUjtY",
        "colab_type": "text"
      },
      "source": [
        ""
      ]
    },
    {
      "cell_type": "markdown",
      "metadata": {
        "id": "XyZvGUYaUjtY",
        "colab_type": "text"
      },
      "source": [
        "## 1.4 Long-range predictions\n",
        "So far we have only considered one-step-ahead predictions. However, in many practical applications it is of interest to use the model to predict further into the future. For intance, for the sea level data studied in this laboration, it is more interesting to predict the level one year from now, and not just 10 days ahead (10 days = 1 time step in this data)."
      ]
    },
    {
      "cell_type": "markdown",
      "metadata": {
        "id": "v0yfa27QUjtZ",
        "colab_type": "text"
      },
      "source": [
        "**Q10**: \n",
        "Write a function that simulates the value of an AR($p$) model $m$ steps into the future, conditionally on an initial sequence of data points. Specifically, given $y_{1:n}$ with $n\\geq p$ the function/code should predict the values\n",
        "\n",
        "\\begin{align}\n",
        "    \\hat y_{t|n} &= \\mathbb{E}[y_{t} | y_{1:n}], & t&=n+1,\\dots,n+m.\n",
        "\\end{align}\n",
        "\n",
        "Use this to predict the values for the validation data ($y_{701:997}$) conditionally on the training data ($y_{1:700}$) and plot the result.\n",
        "\n",
        "_Hint:_ Use the pseudo-code derived at the first pen-and-paper session."
      ]
    },
    {
      "cell_type": "markdown",
      "metadata": {
        "id": "rUsSlzoTUjta",
        "colab_type": "text"
      },
      "source": [
        "**A10:**"
      ]
    },
    {
      "cell_type": "code",
      "metadata": {
        "id": "W8GNGRO7Ujta",
        "colab_type": "code",
        "colab": {}
      },
      "source": [
        "def simulate_ar(y, theta, m):\n",
        "    \"\"\"Simulates an AR(p) model for m steps, with initial condition given by the last p values of y\n",
        "    \n",
        "    :param y: array (n,) with n>=p. The last p values are used to initialize the simulation.\n",
        "    :param theta: array (p,). AR model parameters,\n",
        "    :param m: int, number of time steps to simulate the model for.\n",
        "    \"\"\"\n",
        "\n",
        "    p = len(theta)    \n",
        "    y_sim = np.zeros(m)\n",
        "    phi = np.flip(y[-p:].copy()) # (y_{n-1}, ..., y_{n-p})^T - note that y[ntrain-1] is the last training data point\n",
        "\n",
        "    for i in range(m):\n",
        "        y_sim[i] = ... # <COMPLETE THIS LINE>\n",
        "        # <COMPLETE THIS CODE BLOCK>\n",
        "    \n",
        "    return y_sim\n",
        "    "
      ],
      "execution_count": null,
      "outputs": []
    },
    {
      "cell_type": "code",
      "metadata": {
        "id": "BQuxh8wCUjth",
        "colab_type": "code",
        "colab": {}
      },
      "source": [
        ""
      ],
      "execution_count": null,
      "outputs": []
    },
    {
      "cell_type": "markdown",
      "metadata": {
        "id": "p_E6z0_GUjtj",
        "colab_type": "text"
      },
      "source": [
        "**Q11:** Using the same function as above, try to simulate the process for a large number of time steps (say, $m=2000$). You should see that the predicted values eventually converge to a constant prediction of zero. Is this something that you would expect to see in general? Explain the result."
      ]
    },
    {
      "cell_type": "markdown",
      "metadata": {
        "id": "GU4awQ4NUjtk",
        "colab_type": "text"
      },
      "source": [
        "**A11:**"
      ]
    },
    {
      "cell_type": "code",
      "metadata": {
        "id": "dszw8iKEUjtk",
        "colab_type": "code",
        "colab": {}
      },
      "source": [
        ""
      ],
      "execution_count": null,
      "outputs": []
    },
    {
      "cell_type": "markdown",
      "metadata": {
        "id": "iX9xe3_VUjtm",
        "colab_type": "text"
      },
      "source": [
        "## 1.5 Nonlinear AR model\n",
        " In this part, we switch to a nonlinear autoregressive (NAR) model, which is based on a feedforward neural network. This means that in this model the recursive equation for making predictions is still in the form $\\hat y_t=f_\\theta(y_{t-1},...,y_{t-p})$, but this time $f$ is a nonlinear function learned by the neural network. Fortunately almost all of the work for implementing the neural network and training it is handled by the `scikit-learn` package with a few lines of code, and we just need to choose the right structure, and prepare the input-output data.   "
      ]
    },
    {
      "cell_type": "markdown",
      "metadata": {
        "id": "ZSxOJFnbUjtn",
        "colab_type": "text"
      },
      "source": [
        "**Q12**: Construct a NAR($p$) model with a feedforward (MLP) network, by using the `MLPRegressor` class from `scikit-learn`. Set $p$ to the same value as you chose for the linear AR model above. Initially, you can use an MLP with a single hidden layer consisting of 10 hidden neurons. \n",
        "Train it using the same training data as above and plot the one-step-ahead predictions as well as the residuals, on both the training and validation data. \n",
        "\n",
        "_Hint:_ You will need the methods `fit` and `predict` of `MLPRegressor`. Read the user guide of `scikit-learn` for more details. Recall that a NAR model is conceptuall very similar to an AR model, so you can reuse part of the code from above."
      ]
    },
    {
      "cell_type": "markdown",
      "metadata": {
        "id": "V3SmdKeBUjtn",
        "colab_type": "text"
      },
      "source": [
        "**A12:**"
      ]
    },
    {
      "cell_type": "code",
      "metadata": {
        "id": "XXvMajPzUjto",
        "colab_type": "code",
        "colab": {}
      },
      "source": [
        ""
      ],
      "execution_count": null,
      "outputs": []
    },
    {
      "cell_type": "code",
      "metadata": {
        "id": "MmoeIE00Ujtq",
        "colab_type": "code",
        "colab": {}
      },
      "source": [
        ""
      ],
      "execution_count": null,
      "outputs": []
    },
    {
      "cell_type": "markdown",
      "metadata": {
        "id": "i1DYZy6uUjtt",
        "colab_type": "text"
      },
      "source": [
        "**Q13:** Try to expirement with different choices for the hyperparameters of the network (e.g. number of hidden layers and units per layer, activation function, etc.) and the optimizer (e.g. `solver` and `max_iter`).\n",
        "\n",
        "Are you satisfied with the results? Why/why not? Discuss what the limitations of this approach might be."
      ]
    },
    {
      "cell_type": "markdown",
      "metadata": {
        "id": "oQbUx19yUjtt",
        "colab_type": "text"
      },
      "source": [
        "**A13:**"
      ]
    },
    {
      "cell_type": "code",
      "metadata": {
        "id": "2jAvlnLpUjtu",
        "colab_type": "code",
        "colab": {}
      },
      "source": [
        ""
      ],
      "execution_count": null,
      "outputs": []
    },
    {
      "cell_type": "code",
      "metadata": {
        "id": "DGDLShJeUjtw",
        "colab_type": "code",
        "colab": {}
      },
      "source": [
        ""
      ],
      "execution_count": null,
      "outputs": []
    }
  ]
}